{
 "cells": [
  {
   "cell_type": "markdown",
   "metadata": {},
   "source": [
    "# How touristic the Greek Islands are?"
   ]
  },
  {
   "cell_type": "markdown",
   "metadata": {},
   "source": [
    "First we gather the data by scraping the following website that lists the major inhabited islands in Greece 'https://simple.wikipedia.org/wiki/List_of_Greek_islands'. Greece has a large number of islands, with estimates ranging from somewhere around 1,200 to 6,000, depending on the minimum size to take into account. The number of inhabited islands is variously cited as between 166 and 227. However for purposed of this analysis the focus is on the major 40 islands that are the main touristic destinations since smaller islands are not in scope."
   ]
  },
  {
   "cell_type": "markdown",
   "metadata": {},
   "source": [
    "## Step 1 - Data Collection:\n",
    "Source the data from the web"
   ]
  },
  {
   "cell_type": "code",
   "execution_count": 1,
   "metadata": {},
   "outputs": [],
   "source": [
    "import requests\n",
    "import lxml.html as lh\n",
    "import pandas as pd\n",
    "\n",
    "url='https://simple.wikipedia.org/wiki/List_of_Greek_islands'\n",
    "#Create a handle, page, to handle the contents of the website\n",
    "page = requests.get(url)\n",
    "#Store the contents of the website under doc\n",
    "doc = lh.fromstring(page.content)\n",
    "#Parse data that are stored between <tr>..</tr> of HTML\n",
    "tr_elements = doc.xpath('//tr')\n",
    "\n",
    "#Create empty list\n",
    "col=[]\n",
    "i=0\n",
    "\n",
    "#Add the headers\n",
    "for t in tr_elements[0]:\n",
    "    i+=1\n",
    "    name=t.text_content()\n",
    "    col.append((name.rstrip(),[]))"
   ]
  },
  {
   "cell_type": "code",
   "execution_count": 2,
   "metadata": {},
   "outputs": [],
   "source": [
    "#Since out first row is the header, data is stored on the second row onwards\n",
    "for j in range(1,len(tr_elements)):\n",
    "    #T is our j'th row\n",
    "    T=tr_elements[j]\n",
    "    \n",
    "    #If row is not of size 10, the //tr data is not from our table \n",
    "    if len(T)!=3:\n",
    "        break\n",
    "    \n",
    "    #i is the index of our column\n",
    "    i=0\n",
    "    \n",
    "    #Iterate through each element of the row\n",
    "    for t in T.iterchildren():\n",
    "        data=t.text_content()\n",
    "        \n",
    "        #print(f'the data is: {data}')\n",
    "        #print(f'the index i is: {i} and the index j is: {j}')\n",
    "        #Append the data to the empty list of the i'th column\n",
    "        col[i][1].append(data.rstrip())\n",
    "        #print(f'the tuple is: {col}')\n",
    "        #Increment i for the next column\n",
    "        i+=1"
   ]
  },
  {
   "cell_type": "code",
   "execution_count": 13,
   "metadata": {},
   "outputs": [
    {
     "data": {
      "text/plain": [
       "(40, 3)"
      ]
     },
     "execution_count": 13,
     "metadata": {},
     "output_type": "execute_result"
    }
   ],
   "source": [
    "#Assign the array to a dictionary and from there to a pandas data frame\n",
    "Dict={title:column for (title,column) in col}\n",
    "df=pd.DataFrame(Dict)\n",
    "df.shape"
   ]
  },
  {
   "cell_type": "markdown",
   "metadata": {},
   "source": [
    "\n",
    "## Step 2 - Data Manipulation:\n",
    "\n",
    "With the data sored in a data frame we then perform a number of processing steps in order to make the data fit for our analysis:\n",
    "1. we drop the Rank since it is not necessary for our analysis\n",
    "2. we convert the area from string to int. To do that we first need to get rid of the '.' which make the conversion to fail and finally\n",
    "3. we create a weight column by normalizing the size of the islands based on the size of the largest island. This is important since larger islands are expected to have more hotels, bars, etc."
   ]
  },
  {
   "cell_type": "code",
   "execution_count": 14,
   "metadata": {},
   "outputs": [
    {
     "data": {
      "text/html": [
       "<div>\n",
       "<style scoped>\n",
       "    .dataframe tbody tr th:only-of-type {\n",
       "        vertical-align: middle;\n",
       "    }\n",
       "\n",
       "    .dataframe tbody tr th {\n",
       "        vertical-align: top;\n",
       "    }\n",
       "\n",
       "    .dataframe thead th {\n",
       "        text-align: right;\n",
       "    }\n",
       "</style>\n",
       "<table border=\"1\" class=\"dataframe\">\n",
       "  <thead>\n",
       "    <tr style=\"text-align: right;\">\n",
       "      <th></th>\n",
       "      <th>Island name</th>\n",
       "      <th>Area (km²)</th>\n",
       "      <th>NormalSize</th>\n",
       "    </tr>\n",
       "  </thead>\n",
       "  <tbody>\n",
       "    <tr>\n",
       "      <th>0</th>\n",
       "      <td>Crete</td>\n",
       "      <td>8336</td>\n",
       "      <td>1.000000</td>\n",
       "    </tr>\n",
       "    <tr>\n",
       "      <th>1</th>\n",
       "      <td>Euboea</td>\n",
       "      <td>3655</td>\n",
       "      <td>0.438460</td>\n",
       "    </tr>\n",
       "    <tr>\n",
       "      <th>2</th>\n",
       "      <td>Lesbos</td>\n",
       "      <td>1630</td>\n",
       "      <td>0.195537</td>\n",
       "    </tr>\n",
       "    <tr>\n",
       "      <th>3</th>\n",
       "      <td>Rhodes</td>\n",
       "      <td>1398</td>\n",
       "      <td>0.167706</td>\n",
       "    </tr>\n",
       "    <tr>\n",
       "      <th>4</th>\n",
       "      <td>Chios</td>\n",
       "      <td>842</td>\n",
       "      <td>0.101008</td>\n",
       "    </tr>\n",
       "  </tbody>\n",
       "</table>\n",
       "</div>"
      ],
      "text/plain": [
       "  Island name  Area (km²)  NormalSize\n",
       "0       Crete        8336    1.000000\n",
       "1      Euboea        3655    0.438460\n",
       "2      Lesbos        1630    0.195537\n",
       "3      Rhodes        1398    0.167706\n",
       "4       Chios         842    0.101008"
      ]
     },
     "execution_count": 14,
     "metadata": {},
     "output_type": "execute_result"
    }
   ],
   "source": [
    "df.drop('Rank by size',axis = 1, inplace = True)\n",
    "\n",
    "#Convert the area from string to int in order to be able to perform calculations on it\n",
    "df[\"Area (km²)\"]=df[\"Area (km²)\"].str.replace('.', '').astype(int)\n",
    "\n",
    "#Normalize the since on the last column\n",
    "maxArea = maxArea = df.max()['Area (km²)']\n",
    "df['NormalSize'] = df.apply(lambda row: row['Area (km²)']/maxArea, axis=1)\n",
    "df.head()"
   ]
  },
  {
   "cell_type": "code",
   "execution_count": 6,
   "metadata": {},
   "outputs": [
    {
     "data": {
      "text/html": [
       "<div>\n",
       "<style scoped>\n",
       "    .dataframe tbody tr th:only-of-type {\n",
       "        vertical-align: middle;\n",
       "    }\n",
       "\n",
       "    .dataframe tbody tr th {\n",
       "        vertical-align: top;\n",
       "    }\n",
       "\n",
       "    .dataframe thead th {\n",
       "        text-align: right;\n",
       "    }\n",
       "</style>\n",
       "<table border=\"1\" class=\"dataframe\">\n",
       "  <thead>\n",
       "    <tr style=\"text-align: right;\">\n",
       "      <th></th>\n",
       "      <th>Area (km²)</th>\n",
       "      <th>NormalSize</th>\n",
       "    </tr>\n",
       "    <tr>\n",
       "      <th>Island name</th>\n",
       "      <th></th>\n",
       "      <th></th>\n",
       "    </tr>\n",
       "  </thead>\n",
       "  <tbody>\n",
       "    <tr>\n",
       "      <th>Thira (Santorini)</th>\n",
       "      <td>76</td>\n",
       "      <td>0.009117</td>\n",
       "    </tr>\n",
       "    <tr>\n",
       "      <th>Serifos</th>\n",
       "      <td>73</td>\n",
       "      <td>0.008757</td>\n",
       "    </tr>\n",
       "    <tr>\n",
       "      <th>Sifnos</th>\n",
       "      <td>73</td>\n",
       "      <td>0.008757</td>\n",
       "    </tr>\n",
       "    <tr>\n",
       "      <th>Kasos</th>\n",
       "      <td>66</td>\n",
       "      <td>0.007917</td>\n",
       "    </tr>\n",
       "    <tr>\n",
       "      <th>Alonnisos</th>\n",
       "      <td>64</td>\n",
       "      <td>0.007678</td>\n",
       "    </tr>\n",
       "  </tbody>\n",
       "</table>\n",
       "</div>"
      ],
      "text/plain": [
       "                   Area (km²)  NormalSize\n",
       "Island name                              \n",
       "Thira (Santorini)          76    0.009117\n",
       "Serifos                    73    0.008757\n",
       "Sifnos                     73    0.008757\n",
       "Kasos                      66    0.007917\n",
       "Alonnisos                  64    0.007678"
      ]
     },
     "execution_count": 6,
     "metadata": {},
     "output_type": "execute_result"
    }
   ],
   "source": [
    "df.tail()"
   ]
  },
  {
   "cell_type": "markdown",
   "metadata": {},
   "source": [
    "## Step 3: Foursquare API\n",
    "\n",
    "Next we will gather information from FourSquare on those islands."
   ]
  },
  {
   "cell_type": "code",
   "execution_count": 7,
   "metadata": {},
   "outputs": [],
   "source": []
  },
  {
   "cell_type": "code",
   "execution_count": 8,
   "metadata": {},
   "outputs": [],
   "source": [
    "from pandas.io.json import json_normalize"
   ]
  },
  {
   "cell_type": "code",
   "execution_count": 15,
   "metadata": {},
   "outputs": [
    {
     "data": {
      "text/plain": [
       "(6260, 27)"
      ]
     },
     "execution_count": 15,
     "metadata": {},
     "output_type": "execute_result"
    }
   ],
   "source": [
    "LIMIT = 1000\n",
    "radius = 500\n",
    "\n",
    "def requestFoursquareData(df):\n",
    "    dataframe = pd.DataFrame()\n",
    "    for i in range (0,len(df)):\n",
    "    #for i in range (0,2):\n",
    "        name = df.iloc[i]['Island name']\n",
    "        url = 'https://api.foursquare.com/v2/venues/search?&client_id={}&client_secret={}&v={}&near={}&limit={}&radius={}'.format(\n",
    "        CLIENT_ID, \n",
    "        CLIENT_SECRET, \n",
    "        VERSION,\n",
    "        name,\n",
    "        LIMIT,\n",
    "        radius)\n",
    "    \n",
    "        results = requests.get(url).json()\n",
    "    \n",
    "        # assign relevant part of JSON to venues\n",
    "        venues = results['response']['venues']\n",
    "    \n",
    "        temp = json_normalize(venues)\n",
    "        temp['Name'] = name\n",
    "        dataframe = dataframe.append(temp, ignore_index = True, sort=True)\n",
    "    return dataframe\n",
    "#     print(dataframe.shape, temp.shape)\n",
    "\n",
    "\n",
    "dataframe = requestFoursquareData(df)\n",
    "dataframe.shape"
   ]
  },
  {
   "cell_type": "markdown",
   "metadata": {},
   "source": [
    "By inspecting the data below it was identifies that for a few islands the country is not GR therefore Foursquare API has not returned the correct results for the venues. For those islands we either need to find a different name with which they are represented in the Foursquare API or exclude them from our analysis for now"
   ]
  },
  {
   "cell_type": "code",
   "execution_count": 16,
   "metadata": {},
   "outputs": [
    {
     "data": {
      "text/html": [
       "<div>\n",
       "<style scoped>\n",
       "    .dataframe tbody tr th:only-of-type {\n",
       "        vertical-align: middle;\n",
       "    }\n",
       "\n",
       "    .dataframe tbody tr th {\n",
       "        vertical-align: top;\n",
       "    }\n",
       "\n",
       "    .dataframe thead th {\n",
       "        text-align: right;\n",
       "    }\n",
       "</style>\n",
       "<table border=\"1\" class=\"dataframe\">\n",
       "  <thead>\n",
       "    <tr style=\"text-align: right;\">\n",
       "      <th>location.cc</th>\n",
       "      <th>BR</th>\n",
       "      <th>GR</th>\n",
       "      <th>TR</th>\n",
       "      <th>US</th>\n",
       "    </tr>\n",
       "    <tr>\n",
       "      <th>Name</th>\n",
       "      <th></th>\n",
       "      <th></th>\n",
       "      <th></th>\n",
       "      <th></th>\n",
       "    </tr>\n",
       "  </thead>\n",
       "  <tbody>\n",
       "    <tr>\n",
       "      <th>Crete</th>\n",
       "      <td>0</td>\n",
       "      <td>0</td>\n",
       "      <td>0</td>\n",
       "      <td>101</td>\n",
       "    </tr>\n",
       "    <tr>\n",
       "      <th>Ios</th>\n",
       "      <td>128</td>\n",
       "      <td>0</td>\n",
       "      <td>0</td>\n",
       "      <td>0</td>\n",
       "    </tr>\n",
       "    <tr>\n",
       "      <th>Ithaca</th>\n",
       "      <td>0</td>\n",
       "      <td>0</td>\n",
       "      <td>0</td>\n",
       "      <td>196</td>\n",
       "    </tr>\n",
       "  </tbody>\n",
       "</table>\n",
       "</div>"
      ],
      "text/plain": [
       "location.cc   BR  GR  TR   US\n",
       "Name                         \n",
       "Crete          0   0   0  101\n",
       "Ios          128   0   0    0\n",
       "Ithaca         0   0   0  196"
      ]
     },
     "execution_count": 16,
     "metadata": {},
     "output_type": "execute_result"
    }
   ],
   "source": [
    "temp = dataframe.groupby(['Name', 'location.cc']).size().unstack(fill_value=0)\n",
    "temp.loc[temp['GR'] == 0]"
   ]
  },
  {
   "cell_type": "markdown",
   "metadata": {},
   "source": [
    "After a few trial with the API we've found the following replacements:\n",
    "- Crete --> Creta\n",
    "- Ithaca -->Ithaka\n",
    "- Ios --> Íos\n",
    "\n",
    "We've found that by manually inserting the latitude and longitude in the Foursquare API and observe some of the value returned.\n",
    "Therefore we need to amend the dataframe with the island names and make the request again:"
   ]
  },
  {
   "cell_type": "code",
   "execution_count": 17,
   "metadata": {},
   "outputs": [],
   "source": [
    "#Define a function to replace values in the island list\n",
    "def replace_Island_Name(name, newName,islandList):\n",
    "    index = islandList[islandList['Island name']==name].index.values.astype(int)[0]\n",
    "    islandList.at[index,'Island name'] = newName\n",
    "\n",
    "#Replace the three values\n",
    "replace_Island_Name('Crete', 'Creta',df)\n",
    "replace_Island_Name('Ithaca', 'Ithaka',df)\n",
    "replace_Island_Name('Ios', 'Íos',df)"
   ]
  },
  {
   "cell_type": "markdown",
   "metadata": {},
   "source": [
    "After replacing the values as mentioned above we call the Foursquare API once again. Following that we review the results once again we find that there are no results outside of Greece"
   ]
  },
  {
   "cell_type": "code",
   "execution_count": 18,
   "metadata": {},
   "outputs": [],
   "source": [
    "dataframe = requestFoursquareData(df)"
   ]
  },
  {
   "cell_type": "code",
   "execution_count": 19,
   "metadata": {},
   "outputs": [
    {
     "data": {
      "text/html": [
       "<div>\n",
       "<style scoped>\n",
       "    .dataframe tbody tr th:only-of-type {\n",
       "        vertical-align: middle;\n",
       "    }\n",
       "\n",
       "    .dataframe tbody tr th {\n",
       "        vertical-align: top;\n",
       "    }\n",
       "\n",
       "    .dataframe thead th {\n",
       "        text-align: right;\n",
       "    }\n",
       "</style>\n",
       "<table border=\"1\" class=\"dataframe\">\n",
       "  <thead>\n",
       "    <tr style=\"text-align: right;\">\n",
       "      <th>location.cc</th>\n",
       "      <th>GR</th>\n",
       "      <th>TR</th>\n",
       "    </tr>\n",
       "    <tr>\n",
       "      <th>Name</th>\n",
       "      <th></th>\n",
       "      <th></th>\n",
       "    </tr>\n",
       "  </thead>\n",
       "  <tbody>\n",
       "  </tbody>\n",
       "</table>\n",
       "</div>"
      ],
      "text/plain": [
       "Empty DataFrame\n",
       "Columns: [GR, TR]\n",
       "Index: []"
      ]
     },
     "execution_count": 19,
     "metadata": {},
     "output_type": "execute_result"
    }
   ],
   "source": [
    "temp = dataframe.groupby(['Name', 'location.cc']).size().unstack(fill_value=0)\n",
    "temp.loc[temp['GR'] == 0]"
   ]
  },
  {
   "cell_type": "markdown",
   "metadata": {},
   "source": [
    "We then select only the category column and the columns that have the island name and the location country. The latter is selected because there is one row that has a country other than GR which needs to be removed. Some preprocessing is required to extract the category from the json object"
   ]
  },
  {
   "cell_type": "code",
   "execution_count": 20,
   "metadata": {},
   "outputs": [],
   "source": [
    "temp = dataframe[['Name', 'categories', 'location.cc','location.lat','location.lng']]\n",
    "temp = temp.rename(index=str, columns={'Name':'IslandName','categories':'Categories', 'location.cc':'Country', 'location.lng':'Longitude', 'location.lat':'Latitude'})\n",
    "\n",
    "#exclude the non GR rows\n",
    "temp = temp[temp.Country == 'GR']\n",
    "#Drop the country column since it is no longer needed and get the category values from the json in the category\n",
    "temp = temp[['IslandName','Categories','Latitude','Longitude']]"
   ]
  },
  {
   "cell_type": "code",
   "execution_count": 21,
   "metadata": {},
   "outputs": [],
   "source": [
    "# Define a function to retrieve the category of the venue\n",
    "def returnCategory(obj_list):\n",
    "    category = ''\n",
    "    if len(obj_list) > 0:\n",
    "        category = obj_list[0]['name']\n",
    "    return (category)"
   ]
  },
  {
   "cell_type": "code",
   "execution_count": 22,
   "metadata": {},
   "outputs": [],
   "source": [
    "#Create a new column with the category and drop the original column\n",
    "\n",
    "temp['Category'] = temp.Categories.apply(returnCategory)\n",
    "\n",
    "temp = temp[['IslandName','Category','Latitude','Longitude']]"
   ]
  },
  {
   "cell_type": "code",
   "execution_count": 23,
   "metadata": {},
   "outputs": [
    {
     "data": {
      "text/html": [
       "<div>\n",
       "<style scoped>\n",
       "    .dataframe tbody tr th:only-of-type {\n",
       "        vertical-align: middle;\n",
       "    }\n",
       "\n",
       "    .dataframe tbody tr th {\n",
       "        vertical-align: top;\n",
       "    }\n",
       "\n",
       "    .dataframe thead th {\n",
       "        text-align: right;\n",
       "    }\n",
       "</style>\n",
       "<table border=\"1\" class=\"dataframe\">\n",
       "  <thead>\n",
       "    <tr style=\"text-align: right;\">\n",
       "      <th></th>\n",
       "      <th>IslandName</th>\n",
       "      <th>Category</th>\n",
       "      <th>Latitude</th>\n",
       "      <th>Longitude</th>\n",
       "    </tr>\n",
       "  </thead>\n",
       "  <tbody>\n",
       "    <tr>\n",
       "      <th>0</th>\n",
       "      <td>Creta</td>\n",
       "      <td>Port</td>\n",
       "      <td>35.342184</td>\n",
       "      <td>25.141979</td>\n",
       "    </tr>\n",
       "    <tr>\n",
       "      <th>1</th>\n",
       "      <td>Creta</td>\n",
       "      <td>Boat or Ferry</td>\n",
       "      <td>35.340582</td>\n",
       "      <td>25.142575</td>\n",
       "    </tr>\n",
       "    <tr>\n",
       "      <th>2</th>\n",
       "      <td>Creta</td>\n",
       "      <td>Boat or Ferry</td>\n",
       "      <td>35.339764</td>\n",
       "      <td>25.133120</td>\n",
       "    </tr>\n",
       "    <tr>\n",
       "      <th>3</th>\n",
       "      <td>Creta</td>\n",
       "      <td>Travel Agency</td>\n",
       "      <td>35.341988</td>\n",
       "      <td>25.141590</td>\n",
       "    </tr>\n",
       "    <tr>\n",
       "      <th>4</th>\n",
       "      <td>Creta</td>\n",
       "      <td>Boat or Ferry</td>\n",
       "      <td>35.342155</td>\n",
       "      <td>25.141182</td>\n",
       "    </tr>\n",
       "  </tbody>\n",
       "</table>\n",
       "</div>"
      ],
      "text/plain": [
       "  IslandName       Category   Latitude  Longitude\n",
       "0      Creta           Port  35.342184  25.141979\n",
       "1      Creta  Boat or Ferry  35.340582  25.142575\n",
       "2      Creta  Boat or Ferry  35.339764  25.133120\n",
       "3      Creta  Travel Agency  35.341988  25.141590\n",
       "4      Creta  Boat or Ferry  35.342155  25.141182"
      ]
     },
     "execution_count": 23,
     "metadata": {},
     "output_type": "execute_result"
    }
   ],
   "source": [
    "temp.head()"
   ]
  },
  {
   "cell_type": "markdown",
   "metadata": {},
   "source": [
    "With the category in place we review the unique values with the ultimate goal to create our feature list for each island which will be wether they have port/airport, the number of hotels and the number of bars/coffee shops and restaurants they have."
   ]
  },
  {
   "cell_type": "code",
   "execution_count": 24,
   "metadata": {},
   "outputs": [
    {
     "data": {
      "text/plain": [
       "array(['Port', 'Boat or Ferry', 'Travel Agency',\n",
       "       'Tourist Information Center', 'Seafood Restaurant', 'Fish Taverna',\n",
       "       'Snack Place', 'Sports Club', '', 'Government Building',\n",
       "       'Gas Station', 'Gym / Fitness Center', 'Rental Car Location',\n",
       "       'Theme Park', 'Music Venue', 'Bus Station', 'Cruise',\n",
       "       'Other Nightlife', 'Bank', 'Bookstore', 'Nail Salon', 'Hobby Shop',\n",
       "       'Theater', 'Coffee Shop', 'Park', 'Souvlaki Shop',\n",
       "       'Greek Restaurant', 'Mediterranean Restaurant', 'Pizza Place',\n",
       "       'Playground', 'College Administrative Building', 'Building',\n",
       "       'Military Base', 'Fast Food Restaurant', 'Public Art',\n",
       "       'Historic Site', 'Social Club', 'Bowling Alley', 'Club House',\n",
       "       'Food Truck', 'Café', 'Electronics Store', 'Rock Club',\n",
       "       'Nightclub', 'Bar', 'Health & Beauty Service', 'Pet Store',\n",
       "       'Steakhouse', 'Convenience Store', 'Bus Line', 'Hotel', 'Bus Stop',\n",
       "       'Bed & Breakfast', 'Jewelry Store', 'Newsstand', 'Moving Target',\n",
       "       'Tennis Court', 'IT Services', 'Mobile Phone Shop', 'Office',\n",
       "       'Corporate Coffee Shop', 'Meze Restaurant', 'Salon / Barbershop',\n",
       "       'Warehouse Store', 'Bakery', 'Hardware Store', 'Strip Club',\n",
       "       'Burger Joint', 'Furniture / Home Store', 'General Travel',\n",
       "       'Lingerie Store', 'Tech Startup', 'Other Great Outdoors',\n",
       "       'Hotel Pool', 'Outdoor Gym', 'Field', 'Village', 'Car Wash',\n",
       "       'Cosmetics Shop', 'Elementary School', 'Pharmacy', 'Middle School',\n",
       "       'Assisted Living', 'Kafenio', 'Well', 'Taverna', 'Mountain',\n",
       "       'Cemetery', 'BBQ Joint', 'Deli / Bodega', \"Women's Store\",\n",
       "       'Grocery Store', 'Butcher', 'Gift Shop', 'General Entertainment',\n",
       "       'Kids Store', 'Housing Development', 'Forest', 'Tree', 'Beach',\n",
       "       'Farm', 'Brewery', 'Nature Preserve', 'Outdoors & Recreation',\n",
       "       'Soccer Field', 'Italian Restaurant', 'City', 'Neighborhood',\n",
       "       'Rest Area', 'Bike Shop', 'Plaza', 'Island', 'Spa', 'Stadium',\n",
       "       'Gym', 'Supermarket', 'Medical Center', 'Dessert Shop',\n",
       "       'Botanical Garden', 'Creperie', 'Camera Store', 'Courthouse',\n",
       "       'Student Center', 'College Theater', 'Church',\n",
       "       'General College & University', 'Castle', 'Cupcake Shop',\n",
       "       'Shopping Mall', 'Factory', 'Advertising Agency',\n",
       "       'College Classroom', 'Auto Garage', 'Home Service', 'Cocktail Bar',\n",
       "       'Hookah Bar', 'Restaurant', 'Hotel Bar', 'Internet Cafe',\n",
       "       'Automotive Shop', 'Resort', \"Doctor's Office\", \"Dentist's Office\",\n",
       "       'Lake', 'Intersection', 'Design Studio', 'Wine Bar',\n",
       "       'Residential Building (Apartment / Condo)', 'Beach Bar',\n",
       "       'Vacation Rental', 'National Park', 'Soccer Stadium',\n",
       "       'Science Museum', 'Transportation Service', 'Mosque', 'Lounge',\n",
       "       'Post Office', 'Private School', 'School', 'Bridal Shop',\n",
       "       'History Museum', 'Museum', 'Video Store',\n",
       "       'Bike Rental / Bike Share', 'High School',\n",
       "       'Financial or Legal Service', 'College Academic Building',\n",
       "       'College Cafeteria', 'College Library', 'College Auditorium',\n",
       "       'College Gym', 'Town', 'Bistro', 'Candy Store',\n",
       "       'Country Dance Club', 'Laundry Service',\n",
       "       'Middle Eastern Restaurant', 'College Bookstore', 'Gaming Cafe',\n",
       "       'Chinese Restaurant', 'Indoor Play Area', 'Sports Bar', 'Ouzeri',\n",
       "       'Arts & Crafts Store', 'Comfort Food Restaurant', 'Shipping Store',\n",
       "       'Tsipouro Restaurant', 'Food', 'Hostel', 'Real Estate Office',\n",
       "       'Multiplex', 'Concert Hall', 'Sporting Goods Shop',\n",
       "       'Outdoor Event Space', 'Library', 'Medical Supply Store',\n",
       "       'Wine Shop', 'Toy / Game Store', 'Clothing Store',\n",
       "       'Ice Cream Shop', 'Fried Chicken Joint', 'Art Gallery', 'Boutique',\n",
       "       'Art Museum', 'College & University', \"Men's Store\", 'Baby Store',\n",
       "       'Juice Bar', 'Shoe Store', 'Costume Shop', 'Herbs & Spices Store',\n",
       "       'Radio Station', 'Movie Theater', 'Pedestrian Plaza',\n",
       "       'Gourmet Shop', 'Department Store', 'Bridge', 'Trade School',\n",
       "       'Optical Shop', 'Campaign Office', 'Hot Dog Joint',\n",
       "       'Accessories Store', 'Mattress Store', 'Mental Health Office',\n",
       "       'Coworking Space', 'Food Court', 'Airport', 'Airport Gate',\n",
       "       'Miscellaneous Shop', 'Airport Service', 'Vineyard',\n",
       "       'Travel Lounge', 'Grilled Meat Restaurant', 'Pool',\n",
       "       'Sandwich Place', 'Lighthouse', 'Parking',\n",
       "       'Paper / Office Supplies Store', 'Athletics & Sports',\n",
       "       'Indie Movie Theater', 'Tennis Stadium', 'Market', 'Bougatsa Shop',\n",
       "       'Non-Profit', 'Cafeteria', 'Vape Store', 'Surf Spot', 'Lawyer',\n",
       "       'American Restaurant', 'Flower Shop', 'Language School',\n",
       "       'Acupuncturist', 'City Hall', 'Dance Studio', 'Nursery School',\n",
       "       'Cheese Shop', 'Beer Garden', 'Food & Drink Shop',\n",
       "       'Falafel Restaurant', 'Music School', 'Garden', 'Monastery',\n",
       "       'Winery', 'Convention Center', 'Campground',\n",
       "       'States & Municipalities', 'Gluten-free Restaurant',\n",
       "       'Spanish Restaurant', 'Breakfast Spot', 'Arcade', 'Magirio',\n",
       "       'Donut Shop', 'Photography Studio', 'Fish Market', 'Outlet Store',\n",
       "       'Souvenir Shop', 'Betting Shop', 'Police Station', 'Medical Lab',\n",
       "       'Casino', 'Boat Rental', 'Fruit & Vegetable Store',\n",
       "       'Driving School', 'Frozen Yogurt Shop', 'River', 'Hospital',\n",
       "       'Kebab Restaurant', 'Dog Run', 'Event Space', 'Pool Hall',\n",
       "       'Antique Shop', 'Motorcycle Shop', 'Spiritual Center',\n",
       "       'Yoga Studio', 'College Stadium', 'Massage Studio', 'Town Hall',\n",
       "       'Pub', 'Beer Bar', 'Fishing Store', 'Water Park', 'Daycare',\n",
       "       'Community Center', 'Dive Bar', 'Shoe Repair', 'Jazz Club',\n",
       "       'Law School', 'Meeting Room', 'Nutritionist', 'Bagel Shop',\n",
       "       'Pie Shop', 'Garden Center', 'Farmers Market', 'Sausage Shop',\n",
       "       'Business Service', 'Veterinarian', 'Racetrack', 'Dry Cleaner',\n",
       "       'University', 'Tea Room', 'Japanese Restaurant', 'Shop & Service',\n",
       "       'Health Food Store', 'Animal Shelter', 'Smoke Shop', 'ATM',\n",
       "       'Border Crossing', 'Cretan Restaurant', 'Organic Grocery',\n",
       "       'Liquor Store', 'Luggage Store', 'Exhibit',\n",
       "       'Performing Arts Venue', 'Record Shop', 'Kitchen Supply Store',\n",
       "       'Tattoo Parlor', 'Leather Goods Store', 'Conference Room',\n",
       "       'Speakeasy', 'Pastry Shop', 'Roof Deck', 'Piano Bar',\n",
       "       'Harbor / Marina', 'Tour Provider', 'Dive Shop',\n",
       "       'Basketball Stadium', 'Scenic Lookout', 'Medical School',\n",
       "       'Outdoor Sculpture', 'French Restaurant', 'Karaoke Bar', 'Temple',\n",
       "       'Flea Market', 'Storage Facility', 'Prayer Room',\n",
       "       'Modern Greek Restaurant', 'College Lab', 'Prison',\n",
       "       'Gymnastics Gym', 'Cultural Center', 'Buffet',\n",
       "       'Monument / Landmark', 'Amphitheater', 'Stables',\n",
       "       'Molecular Gastronomy Restaurant', 'Bathing Area',\n",
       "       'Professional & Other Places', 'Corporate Cafeteria',\n",
       "       'Eastern European Restaurant', 'Memorial Site', 'Gastropub',\n",
       "       'Physical Therapist', 'Floating Market', 'Pet Service', 'Trail',\n",
       "       'Heliport', 'Tanning Salon', 'Event Service', 'Motel', 'Diner',\n",
       "       'Pier', 'Drugstore', 'Emergency Room', 'Rock Climbing Spot',\n",
       "       'Airport Terminal', 'Food Stand', 'Chocolate Shop', 'Taxi Stand',\n",
       "       'Board Shop', 'College Math Building', 'Tailor Shop',\n",
       "       'Modern European Restaurant', 'Sushi Restaurant', 'Gay Bar',\n",
       "       'Thai Restaurant', 'Tapas Restaurant', 'Fish & Chips Shop', 'Zoo',\n",
       "       'Turkish Restaurant', 'Sculpture Garden', 'Street Food Gathering',\n",
       "       'Travel & Transport', 'College Arts Building', 'Shrine',\n",
       "       'Dive Spot', 'Volleyball Court', 'Fraternity House',\n",
       "       'Perfume Shop', 'Martial Arts Dojo', 'Recreation Center',\n",
       "       'Recording Studio', 'Asian Restaurant', 'Champagne Bar',\n",
       "       'Watch Shop', 'Theme Restaurant', 'Astrologer', 'Pop-Up Shop',\n",
       "       'Dim Sum Restaurant', 'Trailer Park', 'Currency Exchange',\n",
       "       'Photography Lab', 'Opera House', 'Paella Restaurant',\n",
       "       'Whisky Bar', 'Cable Car', 'Mexican Restaurant', 'Irish Pub',\n",
       "       'Caribbean Restaurant', 'Hunting Supply',\n",
       "       'Construction & Landscaping', 'Business Center', 'Boarding House'],\n",
       "      dtype=object)"
      ]
     },
     "execution_count": 24,
     "metadata": {},
     "output_type": "execute_result"
    }
   ],
   "source": [
    "temp.Category.unique()"
   ]
  },
  {
   "cell_type": "markdown",
   "metadata": {},
   "source": [
    "After carefully reviewing the different categories in the Foursquare data we decided that the following belong to accomodation and food entertainment:\n",
    "- **Accomodation:** 'Hotel','Bed & Breakfast','Vacation Rental','Resort','Residential Building (Apartment / Condo)','Spa','Hotel Bar','Hostel','Motel'\n",
    "- **Food Entertainment:** 'Greek Restaurant','CafÃ©','Bar','Bakery','Cocktail Bar','Dessert Shop','Coffee Shop','Nightclub','Souvlaki Shop','Pizza Place','Taverna','Fast Food Restaurant','Restaurant','Grocery Store','Snack Place','Seafood Restaurant','Italian Restaurant','Kafenio','Mediterranean Restaurant','Meze Restaurant','Fish Taverna','Burger Joint','Breakfast Spot','Sandwich Place','Candy Store','Creperie','Food & Drink Shop','Frozen Yogurt Shop','Ouzeri','Bistro','Deli / Bodega','Internet Cafe','Food','Modern Greek Restaurant','Bougatsa Shop','Donut Shop','Pub','Steakhouse','Grilled Meat Restaurant','Cafeteria','Chinese Restaurant','Cupcake Shop','Falafel Restaurant','Juice Bar','Cretan Restaurant','Diner','Sushi Restaurant','Karaoke Bar','Fish & Chips Shop','Paella Restaurant','Piano Bar','Turkish Restaurant'"
   ]
  },
  {
   "cell_type": "code",
   "execution_count": 25,
   "metadata": {},
   "outputs": [],
   "source": [
    "def isAccomodation(category):\n",
    "    AccList = ['Hotel','Bed & Breakfast','Vacation Rental','Resort','Residential Building (Apartment / Condo)','Spa','Hotel Bar','Hostel','Motel']\n",
    "    if AccList.count(category):\n",
    "        return 1\n",
    "    else:\n",
    "        return 0\n",
    "def isFoodEntertainment(category):\n",
    "    FooEntList = ['Greek Restaurant','Café','Bar','Bakery','Cocktail Bar','Dessert Shop','Coffee Shop','Nightclub','Souvlaki Shop','Pizza Place','Taverna','Fast Food Restaurant','Restaurant','Grocery Store','Snack Place','Seafood Restaurant','Italian Restaurant','Kafenio','Mediterranean Restaurant','Meze Restaurant','Fish Taverna','Burger Joint','Breakfast Spot','Sandwich Place','Candy Store','Creperie','Food & Drink Shop','Frozen Yogurt Shop','Ouzeri','Bistro','Deli / Bodega','Internet Cafe','Food','Modern Greek Restaurant','Bougatsa Shop','Donut Shop','Pub','Steakhouse','Grilled Meat Restaurant','Cafeteria','Chinese Restaurant','Cupcake Shop','Falafel Restaurant','Juice Bar','Cretan Restaurant','Diner','Sushi Restaurant','Karaoke Bar','Fish & Chips Shop','Paella Restaurant','Piano Bar','Turkish Restaurant']\n",
    "    if FooEntList.count(category):\n",
    "        return 1\n",
    "    else:\n",
    "        return 0\n",
    "\n",
    "temp['isAccomodation'] = temp.Category.apply(isAccomodation)\n",
    "temp['isFoodEntertainment'] = temp.Category.apply(isFoodEntertainment)"
   ]
  },
  {
   "cell_type": "code",
   "execution_count": 26,
   "metadata": {},
   "outputs": [],
   "source": [
    "sum_df = temp.groupby(['IslandName']).agg({'isAccomodation':'sum','isFoodEntertainment':'sum','Latitude':'mean','Longitude':'mean'})"
   ]
  },
  {
   "cell_type": "code",
   "execution_count": 27,
   "metadata": {},
   "outputs": [],
   "source": [
    "sum_df_normalised = sum_df"
   ]
  },
  {
   "cell_type": "code",
   "execution_count": 28,
   "metadata": {},
   "outputs": [],
   "source": [
    "df.set_index('Island name', inplace=True)\n",
    "sum_df_normalised = sum_df_normalised.merge(df,left_index=True, right_index=True)"
   ]
  },
  {
   "cell_type": "code",
   "execution_count": 29,
   "metadata": {},
   "outputs": [
    {
     "data": {
      "text/html": [
       "<div>\n",
       "<style scoped>\n",
       "    .dataframe tbody tr th:only-of-type {\n",
       "        vertical-align: middle;\n",
       "    }\n",
       "\n",
       "    .dataframe tbody tr th {\n",
       "        vertical-align: top;\n",
       "    }\n",
       "\n",
       "    .dataframe thead th {\n",
       "        text-align: right;\n",
       "    }\n",
       "</style>\n",
       "<table border=\"1\" class=\"dataframe\">\n",
       "  <thead>\n",
       "    <tr style=\"text-align: right;\">\n",
       "      <th></th>\n",
       "      <th>isAccomodation</th>\n",
       "      <th>isFoodEntertainment</th>\n",
       "      <th>Latitude</th>\n",
       "      <th>Longitude</th>\n",
       "    </tr>\n",
       "    <tr>\n",
       "      <th>IslandName</th>\n",
       "      <th></th>\n",
       "      <th></th>\n",
       "      <th></th>\n",
       "      <th></th>\n",
       "    </tr>\n",
       "  </thead>\n",
       "  <tbody>\n",
       "    <tr>\n",
       "      <th>Aegina</th>\n",
       "      <td>7</td>\n",
       "      <td>73</td>\n",
       "      <td>37.746538</td>\n",
       "      <td>23.428162</td>\n",
       "    </tr>\n",
       "    <tr>\n",
       "      <th>Alonnisos</th>\n",
       "      <td>39</td>\n",
       "      <td>85</td>\n",
       "      <td>39.146594</td>\n",
       "      <td>23.859353</td>\n",
       "    </tr>\n",
       "    <tr>\n",
       "      <th>Amorgos</th>\n",
       "      <td>19</td>\n",
       "      <td>42</td>\n",
       "      <td>36.830276</td>\n",
       "      <td>25.885195</td>\n",
       "    </tr>\n",
       "    <tr>\n",
       "      <th>Andros</th>\n",
       "      <td>16</td>\n",
       "      <td>67</td>\n",
       "      <td>37.836924</td>\n",
       "      <td>24.933649</td>\n",
       "    </tr>\n",
       "    <tr>\n",
       "      <th>Astypalaia</th>\n",
       "      <td>33</td>\n",
       "      <td>67</td>\n",
       "      <td>36.547200</td>\n",
       "      <td>26.352486</td>\n",
       "    </tr>\n",
       "  </tbody>\n",
       "</table>\n",
       "</div>"
      ],
      "text/plain": [
       "            isAccomodation  isFoodEntertainment   Latitude  Longitude\n",
       "IslandName                                                           \n",
       "Aegina                   7                   73  37.746538  23.428162\n",
       "Alonnisos               39                   85  39.146594  23.859353\n",
       "Amorgos                 19                   42  36.830276  25.885195\n",
       "Andros                  16                   67  37.836924  24.933649\n",
       "Astypalaia              33                   67  36.547200  26.352486"
      ]
     },
     "execution_count": 29,
     "metadata": {},
     "output_type": "execute_result"
    }
   ],
   "source": [
    "sum_df_normalised.head()\n",
    "sum_df.head()"
   ]
  },
  {
   "cell_type": "code",
   "execution_count": 30,
   "metadata": {},
   "outputs": [],
   "source": [
    "isAccomodationNormalized = sum_df_normalised.isAccomodation*sum_df_normalised.NormalSize\n",
    "isFoodEntertainmentNormalized = sum_df_normalised.isFoodEntertainment*sum_df_normalised.NormalSize\n",
    "\n",
    "sum_df_normalised['isAccomodationNormalized']=isAccomodationNormalized\n",
    "sum_df_normalised['isFoodEntertainmentNormalized']=isFoodEntertainmentNormalized"
   ]
  },
  {
   "cell_type": "code",
   "execution_count": 31,
   "metadata": {},
   "outputs": [],
   "source": [
    "sum_df_normalised = sum_df_normalised[['isAccomodationNormalized','isFoodEntertainmentNormalized','Latitude','Latitude']]"
   ]
  },
  {
   "cell_type": "code",
   "execution_count": 32,
   "metadata": {},
   "outputs": [
    {
     "data": {
      "text/html": [
       "<div>\n",
       "<style scoped>\n",
       "    .dataframe tbody tr th:only-of-type {\n",
       "        vertical-align: middle;\n",
       "    }\n",
       "\n",
       "    .dataframe tbody tr th {\n",
       "        vertical-align: top;\n",
       "    }\n",
       "\n",
       "    .dataframe thead th {\n",
       "        text-align: right;\n",
       "    }\n",
       "</style>\n",
       "<table border=\"1\" class=\"dataframe\">\n",
       "  <thead>\n",
       "    <tr style=\"text-align: right;\">\n",
       "      <th></th>\n",
       "      <th>isAccomodationNormalized</th>\n",
       "      <th>isFoodEntertainmentNormalized</th>\n",
       "      <th>Latitude</th>\n",
       "      <th>Latitude</th>\n",
       "    </tr>\n",
       "  </thead>\n",
       "  <tbody>\n",
       "    <tr>\n",
       "      <th>Aegina</th>\n",
       "      <td>0.069698</td>\n",
       "      <td>0.726847</td>\n",
       "      <td>37.746538</td>\n",
       "      <td>37.746538</td>\n",
       "    </tr>\n",
       "    <tr>\n",
       "      <th>Alonnisos</th>\n",
       "      <td>0.299424</td>\n",
       "      <td>0.652591</td>\n",
       "      <td>39.146594</td>\n",
       "      <td>39.146594</td>\n",
       "    </tr>\n",
       "    <tr>\n",
       "      <th>Amorgos</th>\n",
       "      <td>0.275792</td>\n",
       "      <td>0.609645</td>\n",
       "      <td>36.830276</td>\n",
       "      <td>36.830276</td>\n",
       "    </tr>\n",
       "    <tr>\n",
       "      <th>Andros</th>\n",
       "      <td>0.729367</td>\n",
       "      <td>3.054223</td>\n",
       "      <td>37.836924</td>\n",
       "      <td>37.836924</td>\n",
       "    </tr>\n",
       "    <tr>\n",
       "      <th>Astypalaia</th>\n",
       "      <td>0.383997</td>\n",
       "      <td>0.779631</td>\n",
       "      <td>36.547200</td>\n",
       "      <td>36.547200</td>\n",
       "    </tr>\n",
       "  </tbody>\n",
       "</table>\n",
       "</div>"
      ],
      "text/plain": [
       "            isAccomodationNormalized  isFoodEntertainmentNormalized  \\\n",
       "Aegina                      0.069698                       0.726847   \n",
       "Alonnisos                   0.299424                       0.652591   \n",
       "Amorgos                     0.275792                       0.609645   \n",
       "Andros                      0.729367                       3.054223   \n",
       "Astypalaia                  0.383997                       0.779631   \n",
       "\n",
       "             Latitude   Latitude  \n",
       "Aegina      37.746538  37.746538  \n",
       "Alonnisos   39.146594  39.146594  \n",
       "Amorgos     36.830276  36.830276  \n",
       "Andros      37.836924  37.836924  \n",
       "Astypalaia  36.547200  36.547200  "
      ]
     },
     "execution_count": 32,
     "metadata": {},
     "output_type": "execute_result"
    }
   ],
   "source": [
    "sum_df_normalised.head()"
   ]
  },
  {
   "cell_type": "markdown",
   "metadata": {},
   "source": [
    "We then need to visualize the data to find out how they are distributed in the two dimentional space"
   ]
  },
  {
   "cell_type": "code",
   "execution_count": 33,
   "metadata": {},
   "outputs": [
    {
     "data": {
      "text/plain": [
       "<matplotlib.axes._subplots.AxesSubplot at 0x217ea6e5dd8>"
      ]
     },
     "execution_count": 33,
     "metadata": {},
     "output_type": "execute_result"
    },
    {
     "data": {
      "image/png": "[encoded data removed]",
      "text/plain": [
       "<Figure size 432x288 with 1 Axes>"
      ]
     },
     "metadata": {
      "needs_background": "light"
     },
     "output_type": "display_data"
    },
    {
     "data": {
      "image/png": "[encoded data removed]",
      "text/plain": [
       "<Figure size 432x288 with 1 Axes>"
      ]
     },
     "metadata": {
      "needs_background": "light"
     },
     "output_type": "display_data"
    }
   ],
   "source": [
    "import matplotlib.pyplot as plt # plotting library\n",
    "# backend for rendering plots within the browser\n",
    "%matplotlib inline\n",
    "\n",
    "sum_df.plot.scatter(x='isAccomodation',y='isFoodEntertainment',c='DarkBlue')\n",
    "sum_df_normalised.plot.scatter(x='isAccomodationNormalized',y='isFoodEntertainmentNormalized',c='DarkBlue')"
   ]
  },
  {
   "cell_type": "code",
   "execution_count": 34,
   "metadata": {},
   "outputs": [],
   "source": [
    "from sklearn.cluster import KMeans \n",
    "from sklearn.datasets.samples_generator import make_blobs"
   ]
  },
  {
   "cell_type": "code",
   "execution_count": 35,
   "metadata": {},
   "outputs": [],
   "source": [
    "k_means = KMeans(init=\"k-means++\", n_clusters=4, n_init=12)"
   ]
  },
  {
   "cell_type": "code",
   "execution_count": 36,
   "metadata": {},
   "outputs": [
    {
     "data": {
      "text/plain": [
       "KMeans(algorithm='auto', copy_x=True, init='k-means++', max_iter=300,\n",
       "    n_clusters=4, n_init=12, n_jobs=None, precompute_distances='auto',\n",
       "    random_state=None, tol=0.0001, verbose=0)"
      ]
     },
     "execution_count": 36,
     "metadata": {},
     "output_type": "execute_result"
    }
   ],
   "source": [
    "X = sum_df.values\n",
    "k_means.fit(X)"
   ]
  },
  {
   "cell_type": "code",
   "execution_count": 37,
   "metadata": {},
   "outputs": [
    {
     "data": {
      "text/plain": [
       "array([3, 2, 0, 3, 2, 0, 3, 0, 3, 0, 3, 3, 0, 0, 2, 0, 0, 1, 3, 0, 3, 0,\n",
       "       0, 0, 0, 3, 0, 0, 0, 3, 3, 3, 0, 0, 3, 2, 2, 1, 0, 2])"
      ]
     },
     "execution_count": 37,
     "metadata": {},
     "output_type": "execute_result"
    }
   ],
   "source": [
    "k_means_labels = k_means.labels_\n",
    "k_means_labels"
   ]
  },
  {
   "cell_type": "code",
   "execution_count": 38,
   "metadata": {},
   "outputs": [
    {
     "data": {
      "text/plain": [
       "array([[10.42105263, 40.73684211, 37.36414242, 24.76950449],\n",
       "       [10.        , 95.        , 37.21548283, 26.2251279 ],\n",
       "       [34.83333333, 74.        , 37.8781663 , 24.99362822],\n",
       "       [13.53846154, 66.15384615, 38.05991454, 24.26782024]])"
      ]
     },
     "execution_count": 38,
     "metadata": {},
     "output_type": "execute_result"
    }
   ],
   "source": [
    "k_means_cluster_centers = k_means.cluster_centers_\n",
    "k_means_cluster_centers"
   ]
  },
  {
   "cell_type": "code",
   "execution_count": 39,
   "metadata": {},
   "outputs": [
    {
     "data": {
      "image/png": "[encoded data removed]",
      "text/plain": [
       "<Figure size 1080x720 with 1 Axes>"
      ]
     },
     "metadata": {},
     "output_type": "display_data"
    }
   ],
   "source": [
    "import numpy as np\n",
    "\n",
    "# initialize the plot with the specified dimensions.\n",
    "fig = plt.figure(figsize=(15, 10))\n",
    "\n",
    "# colors uses a color map, which will produce an array of colors based on\n",
    "# the number of labels. We use set(k_means_labels) to get the\n",
    "# unique labels.\n",
    "colors = plt.cm.Spectral(np.linspace(0, 1, len(set(k_means_labels))))\n",
    "\n",
    "# create a plot\n",
    "ax = fig.add_subplot(1, 1, 1)\n",
    "\n",
    "# loop through the data and plot the datapoints and centroids.\n",
    "# k will range from 0-3, which will match the number of clusters in the dataset.\n",
    "for k, col in zip(range(len([[4,4], [-2, -1], [2, -3], [1, 1]])), colors):\n",
    "\n",
    "    # create a list of all datapoints, where the datapoitns that are \n",
    "    # in the cluster (ex. cluster 0) are labeled as true, else they are\n",
    "    # labeled as false.\n",
    "    my_members = (k_means_labels == k)\n",
    "    \n",
    "    # define the centroid, or cluster center.\n",
    "    cluster_center = k_means_cluster_centers[k]\n",
    "    \n",
    "    # plot the datapoints with color col.\n",
    "    ax.plot(X[my_members, 0], X[my_members, 1], 'w', markerfacecolor=col, marker='.', markersize=25)\n",
    "    \n",
    "    # plot the centroids with specified color, but with a darker outline\n",
    "    ax.plot(cluster_center[0], cluster_center[1], 'o', markerfacecolor=col,  markeredgecolor='k', markersize=20)\n",
    "\n",
    "# title of the plot\n",
    "ax.set_title('KMeans')\n",
    "\n",
    "# remove x-axis ticks\n",
    "ax.set_xticks(())\n",
    "\n",
    "# remove y-axis ticks\n",
    "ax.set_yticks(())\n",
    "\n",
    "# show the plot\n",
    "plt.show()"
   ]
  },
  {
   "cell_type": "code",
   "execution_count": 40,
   "metadata": {},
   "outputs": [],
   "source": [
    "#Convert the array to a dataframe\n",
    "df_cluster_labels = pd.DataFrame(k_means_labels)\n",
    "\n",
    "#get the index on the original dataframe in preparation for merging\n",
    "sum_df = sum_df.reset_index(drop=False)\n",
    "\n",
    "#merge the two datasets to get the cluster label\n",
    "sum_df = sum_df.merge(df_cluster_labels, left_index=True, right_index=True)\n",
    "\n",
    "#rename the cluster column\n",
    "sum_df = sum_df.rename(index=str, columns={'0':'Label'})"
   ]
  },
  {
   "cell_type": "code",
   "execution_count": 41,
   "metadata": {},
   "outputs": [],
   "source": [
    "sum_df.rename(index=str, columns={'0':'Label'},inplace=True)"
   ]
  },
  {
   "cell_type": "code",
   "execution_count": 43,
   "metadata": {},
   "outputs": [],
   "source": [
    "sum_df.to_csv('Final_results.csv')"
   ]
  }
 ],
 "metadata": {
  "kernelspec": {
   "display_name": "Python 3",
   "language": "python",
   "name": "python3"
  },
  "language_info": {
   "codemirror_mode": {
    "name": "ipython",
    "version": 3
   },
   "file_extension": ".py",
   "mimetype": "text/x-python",
   "name": "python",
   "nbconvert_exporter": "python",
   "pygments_lexer": "ipython3",
   "version": "3.7.1"
  }
 },
 "nbformat": 4,
 "nbformat_minor": 2
}
