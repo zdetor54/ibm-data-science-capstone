{
 "cells": [
  {
   "cell_type": "markdown",
   "metadata": {},
   "source": [
    "# How touristic the Greek Islands are?"
   ]
  },
  {
   "cell_type": "markdown",
   "metadata": {},
   "source": [
    "First we gather the data by scraping the following website that lists the major inhabited islands in Greece 'https://simple.wikipedia.org/wiki/List_of_Greek_islands'. Greece has a large number of islands, with estimates ranging from somewhere around 1,200 to 6,000, depending on the minimum size to take into account. The number of inhabited islands is variously cited as between 166 and 227. However for purposed of this analysis the focus is on the major 40 islands that are the main touristic destinations since smaller islands are not in scope."
   ]
  },
  {
   "cell_type": "markdown",
   "metadata": {},
   "source": [
    "## Step 1 - Data Collection:\n",
    "Source the data from the web"
   ]
  },
  {
   "cell_type": "code",
   "execution_count": 1,
   "metadata": {},
   "outputs": [],
   "source": [
    "import requests\n",
    "import lxml.html as lh\n",
    "import pandas as pd\n",
    "\n",
    "url='https://simple.wikipedia.org/wiki/List_of_Greek_islands'\n",
    "#Create a handle, page, to handle the contents of the website\n",
    "page = requests.get(url)\n",
    "#Store the contents of the website under doc\n",
    "doc = lh.fromstring(page.content)\n",
    "#Parse data that are stored between <tr>..</tr> of HTML\n",
    "tr_elements = doc.xpath('//tr')\n",
    "\n",
    "#Create empty list\n",
    "col=[]\n",
    "i=0\n",
    "\n",
    "#Add the headers\n",
    "for t in tr_elements[0]:\n",
    "    i+=1\n",
    "    name=t.text_content()\n",
    "    col.append((name.rstrip(),[]))"
   ]
  },
  {
   "cell_type": "code",
   "execution_count": 2,
   "metadata": {},
   "outputs": [],
   "source": [
    "#Since out first row is the header, data is stored on the second row onwards\n",
    "for j in range(1,len(tr_elements)):\n",
    "    #T is our j'th row\n",
    "    T=tr_elements[j]\n",
    "    \n",
    "    #If row is not of size 10, the //tr data is not from our table \n",
    "    if len(T)!=3:\n",
    "        break\n",
    "    \n",
    "    #i is the index of our column\n",
    "    i=0\n",
    "    \n",
    "    #Iterate through each element of the row\n",
    "    for t in T.iterchildren():\n",
    "        data=t.text_content()\n",
    "        \n",
    "        #print(f'the data is: {data}')\n",
    "        #print(f'the index i is: {i} and the index j is: {j}')\n",
    "        #Append the data to the empty list of the i'th column\n",
    "        col[i][1].append(data.rstrip())\n",
    "        #print(f'the tuple is: {col}')\n",
    "        #Increment i for the next column\n",
    "        i+=1"
   ]
  },
  {
   "cell_type": "code",
   "execution_count": 3,
   "metadata": {},
   "outputs": [
    {
     "data": {
      "text/plain": [
       "(40, 3)"
      ]
     },
     "execution_count": 3,
     "metadata": {},
     "output_type": "execute_result"
    }
   ],
   "source": [
    "#Assign the array to a dictionary and from there to a pandas data frame\n",
    "Dict={title:column for (title,column) in col}\n",
    "df=pd.DataFrame(Dict)\n",
    "df.shape"
   ]
  },
  {
   "cell_type": "markdown",
   "metadata": {},
   "source": [
    "\n",
    "## Step 2 - Data Manipulation:\n",
    "\n",
    "With the data sored in a data frame we then perform a number of processing steps in order to make the data fit for our analysis:\n",
    "1. we drop the Rank since it is not necessary for our analysis\n",
    "2. we convert the area from string to int. To do that we first need to get rid of the '.' which make the conversion to fail and finally\n",
    "3. we create a weight column by normalizing the size of the islands based on the size of the largest island. This is important since larger islands are expected to have more hotels, bars, etc."
   ]
  },
  {
   "cell_type": "code",
   "execution_count": 4,
   "metadata": {},
   "outputs": [
    {
     "data": {
      "text/html": [
       "<div>\n",
       "<style scoped>\n",
       "    .dataframe tbody tr th:only-of-type {\n",
       "        vertical-align: middle;\n",
       "    }\n",
       "\n",
       "    .dataframe tbody tr th {\n",
       "        vertical-align: top;\n",
       "    }\n",
       "\n",
       "    .dataframe thead th {\n",
       "        text-align: right;\n",
       "    }\n",
       "</style>\n",
       "<table border=\"1\" class=\"dataframe\">\n",
       "  <thead>\n",
       "    <tr style=\"text-align: right;\">\n",
       "      <th></th>\n",
       "      <th>Island name</th>\n",
       "      <th>Area (km²)</th>\n",
       "      <th>NormalSize</th>\n",
       "    </tr>\n",
       "  </thead>\n",
       "  <tbody>\n",
       "    <tr>\n",
       "      <th>0</th>\n",
       "      <td>Crete</td>\n",
       "      <td>8336</td>\n",
       "      <td>1.000000</td>\n",
       "    </tr>\n",
       "    <tr>\n",
       "      <th>1</th>\n",
       "      <td>Euboea</td>\n",
       "      <td>3655</td>\n",
       "      <td>0.438460</td>\n",
       "    </tr>\n",
       "    <tr>\n",
       "      <th>2</th>\n",
       "      <td>Lesbos</td>\n",
       "      <td>1630</td>\n",
       "      <td>0.195537</td>\n",
       "    </tr>\n",
       "    <tr>\n",
       "      <th>3</th>\n",
       "      <td>Rhodes</td>\n",
       "      <td>1398</td>\n",
       "      <td>0.167706</td>\n",
       "    </tr>\n",
       "    <tr>\n",
       "      <th>4</th>\n",
       "      <td>Chios</td>\n",
       "      <td>842</td>\n",
       "      <td>0.101008</td>\n",
       "    </tr>\n",
       "  </tbody>\n",
       "</table>\n",
       "</div>"
      ],
      "text/plain": [
       "  Island name  Area (km²)  NormalSize\n",
       "0       Crete        8336    1.000000\n",
       "1      Euboea        3655    0.438460\n",
       "2      Lesbos        1630    0.195537\n",
       "3      Rhodes        1398    0.167706\n",
       "4       Chios         842    0.101008"
      ]
     },
     "execution_count": 4,
     "metadata": {},
     "output_type": "execute_result"
    }
   ],
   "source": [
    "df.drop('Rank by size',axis = 1, inplace = True)\n",
    "\n",
    "#Convert the area from string to int in order to be able to perform calculations on it\n",
    "df[\"Area (km²)\"]=df[\"Area (km²)\"].str.replace('.', '').astype(int)\n",
    "\n",
    "#Normalize the since on the last column\n",
    "maxArea = maxArea = df.max()['Area (km²)']\n",
    "df['NormalSize'] = df.apply(lambda row: row['Area (km²)']/maxArea, axis=1)\n",
    "df.head()"
   ]
  },
  {
   "cell_type": "markdown",
   "metadata": {},
   "source": [
    "## Step 3: Foursquare API\n",
    "\n",
    "Next we will gather information from FourSquare on those islands."
   ]
  },
  {
   "cell_type": "code",
   "execution_count": 5,
   "metadata": {},
   "outputs": [],
   "source": [
    "CLIENT_ID = '0M54ZUC1RXUHQCJ01CXK1OSXHYVBUQGJQYHUSUULTELOW4DF' # your Foursquare ID\n",
    "CLIENT_SECRET = 'CKSLIBZHERBJLSCHPFDGLHGMEYT4S441D1PXAQTVXTV42RNU' # your Foursquare Secret\n",
    "VERSION = '20180605' # Foursquare API version"
   ]
  },
  {
   "cell_type": "code",
   "execution_count": 6,
   "metadata": {},
   "outputs": [],
   "source": [
    "from pandas.io.json import json_normalize"
   ]
  },
  {
   "cell_type": "code",
   "execution_count": 107,
   "metadata": {},
   "outputs": [
    {
     "data": {
      "text/plain": [
       "(6347, 19)"
      ]
     },
     "execution_count": 107,
     "metadata": {},
     "output_type": "execute_result"
    }
   ],
   "source": [
    "LIMIT = 1000\n",
    "radius = 500\n",
    "\n",
    "def requestFoursquareData(df):\n",
    "    dataframe = pd.DataFrame()\n",
    "    for i in range (0,len(df)):\n",
    "    #for i in range (0,2):\n",
    "        name = df.iloc[i]['Island name']\n",
    "        url = 'https://api.foursquare.com/v2/venues/search?&client_id={}&client_secret={}&v={}&near={}&limit={}&radius={}'.format(\n",
    "        CLIENT_ID, \n",
    "        CLIENT_SECRET, \n",
    "        VERSION,\n",
    "        name,\n",
    "        LIMIT,\n",
    "        radius)\n",
    "    \n",
    "        results = requests.get(url).json()\n",
    "    \n",
    "        # assign relevant part of JSON to venues\n",
    "        venues = results['response']['venues']\n",
    "    \n",
    "        temp = json_normalize(venues)\n",
    "        temp['Name'] = name\n",
    "        dataframe = dataframe.append(temp, ignore_index = True, sort=True)\n",
    "    return dataframe\n",
    "#     print(dataframe.shape, temp.shape)\n",
    "\n",
    "dataframe = requestFoursquareData(df)\n",
    "dataframe.shape"
   ]
  },
  {
   "cell_type": "markdown",
   "metadata": {},
   "source": [
    "By inspecting the data below it was identifies that for a few islands the country is not GR therefore Foursquare API has not returned the correct results for the venues. For those islands we either need to find a different name with which they are represented in the Foursquare API or exclude them from our analysis for now"
   ]
  },
  {
   "cell_type": "code",
   "execution_count": 108,
   "metadata": {},
   "outputs": [
    {
     "data": {
      "text/html": [
       "<div>\n",
       "<style scoped>\n",
       "    .dataframe tbody tr th:only-of-type {\n",
       "        vertical-align: middle;\n",
       "    }\n",
       "\n",
       "    .dataframe tbody tr th {\n",
       "        vertical-align: top;\n",
       "    }\n",
       "\n",
       "    .dataframe thead th {\n",
       "        text-align: right;\n",
       "    }\n",
       "</style>\n",
       "<table border=\"1\" class=\"dataframe\">\n",
       "  <thead>\n",
       "    <tr style=\"text-align: right;\">\n",
       "      <th>location.cc</th>\n",
       "      <th>GR</th>\n",
       "      <th>TR</th>\n",
       "    </tr>\n",
       "    <tr>\n",
       "      <th>Name</th>\n",
       "      <th></th>\n",
       "      <th></th>\n",
       "    </tr>\n",
       "  </thead>\n",
       "  <tbody>\n",
       "  </tbody>\n",
       "</table>\n",
       "</div>"
      ],
      "text/plain": [
       "Empty DataFrame\n",
       "Columns: [GR, TR]\n",
       "Index: []"
      ]
     },
     "execution_count": 108,
     "metadata": {},
     "output_type": "execute_result"
    }
   ],
   "source": [
    "temp = dataframe.groupby(['Name', 'location.cc']).size().unstack(fill_value=0)\n",
    "temp.loc[temp['GR'] == 0]"
   ]
  },
  {
   "cell_type": "markdown",
   "metadata": {},
   "source": [
    "After a few trial with the API we've found the following replacements:\n",
    "- Crete --> Creta\n",
    "- Ithaca -->Ithaka\n",
    "- Ios --> Íos\n",
    "\n",
    "We've found that by manually inserting the latitude and longitude in the Foursquare API and observe some of the value returned.\n",
    "Therefore we need to amend the dataframe with the island names and make the request again:"
   ]
  },
  {
   "cell_type": "code",
   "execution_count": 15,
   "metadata": {},
   "outputs": [
    {
     "ename": "IndexError",
     "evalue": "index 0 is out of bounds for axis 0 with size 0",
     "output_type": "error",
     "traceback": [
      "\u001b[1;31m---------------------------------------------------------------------------\u001b[0m",
      "\u001b[1;31mIndexError\u001b[0m                                Traceback (most recent call last)",
      "\u001b[1;32m<ipython-input-15-48d324561d96>\u001b[0m in \u001b[0;36m<module>\u001b[1;34m\u001b[0m\n\u001b[0;32m      5\u001b[0m \u001b[1;33m\u001b[0m\u001b[0m\n\u001b[0;32m      6\u001b[0m \u001b[1;31m#Replace the three values\u001b[0m\u001b[1;33m\u001b[0m\u001b[1;33m\u001b[0m\u001b[1;33m\u001b[0m\u001b[0m\n\u001b[1;32m----> 7\u001b[1;33m \u001b[0mreplace_Island_Name\u001b[0m\u001b[1;33m(\u001b[0m\u001b[1;34m'Crete'\u001b[0m\u001b[1;33m,\u001b[0m \u001b[1;34m'Creta'\u001b[0m\u001b[1;33m,\u001b[0m\u001b[0mdf\u001b[0m\u001b[1;33m)\u001b[0m\u001b[1;33m\u001b[0m\u001b[1;33m\u001b[0m\u001b[0m\n\u001b[0m\u001b[0;32m      8\u001b[0m \u001b[0mreplace_Island_Name\u001b[0m\u001b[1;33m(\u001b[0m\u001b[1;34m'Ithaca'\u001b[0m\u001b[1;33m,\u001b[0m \u001b[1;34m'Ithaka'\u001b[0m\u001b[1;33m,\u001b[0m\u001b[0mdf\u001b[0m\u001b[1;33m)\u001b[0m\u001b[1;33m\u001b[0m\u001b[1;33m\u001b[0m\u001b[0m\n\u001b[0;32m      9\u001b[0m \u001b[0mreplace_Island_Name\u001b[0m\u001b[1;33m(\u001b[0m\u001b[1;34m'Ios'\u001b[0m\u001b[1;33m,\u001b[0m \u001b[1;34m'Íos'\u001b[0m\u001b[1;33m,\u001b[0m\u001b[0mdf\u001b[0m\u001b[1;33m)\u001b[0m\u001b[1;33m\u001b[0m\u001b[1;33m\u001b[0m\u001b[0m\n",
      "\u001b[1;32m<ipython-input-15-48d324561d96>\u001b[0m in \u001b[0;36mreplace_Island_Name\u001b[1;34m(name, newName, islandList)\u001b[0m\n\u001b[0;32m      1\u001b[0m \u001b[1;31m#Define a function to replace values in the island list\u001b[0m\u001b[1;33m\u001b[0m\u001b[1;33m\u001b[0m\u001b[1;33m\u001b[0m\u001b[0m\n\u001b[0;32m      2\u001b[0m \u001b[1;32mdef\u001b[0m \u001b[0mreplace_Island_Name\u001b[0m\u001b[1;33m(\u001b[0m\u001b[0mname\u001b[0m\u001b[1;33m,\u001b[0m \u001b[0mnewName\u001b[0m\u001b[1;33m,\u001b[0m\u001b[0mislandList\u001b[0m\u001b[1;33m)\u001b[0m\u001b[1;33m:\u001b[0m\u001b[1;33m\u001b[0m\u001b[1;33m\u001b[0m\u001b[0m\n\u001b[1;32m----> 3\u001b[1;33m     \u001b[0mindex\u001b[0m \u001b[1;33m=\u001b[0m \u001b[0mislandList\u001b[0m\u001b[1;33m[\u001b[0m\u001b[0mislandList\u001b[0m\u001b[1;33m[\u001b[0m\u001b[1;34m'Island name'\u001b[0m\u001b[1;33m]\u001b[0m\u001b[1;33m==\u001b[0m\u001b[0mname\u001b[0m\u001b[1;33m]\u001b[0m\u001b[1;33m.\u001b[0m\u001b[0mindex\u001b[0m\u001b[1;33m.\u001b[0m\u001b[0mvalues\u001b[0m\u001b[1;33m.\u001b[0m\u001b[0mastype\u001b[0m\u001b[1;33m(\u001b[0m\u001b[0mint\u001b[0m\u001b[1;33m)\u001b[0m\u001b[1;33m[\u001b[0m\u001b[1;36m0\u001b[0m\u001b[1;33m]\u001b[0m\u001b[1;33m\u001b[0m\u001b[1;33m\u001b[0m\u001b[0m\n\u001b[0m\u001b[0;32m      4\u001b[0m     \u001b[0mislandList\u001b[0m\u001b[1;33m.\u001b[0m\u001b[0mat\u001b[0m\u001b[1;33m[\u001b[0m\u001b[0mindex\u001b[0m\u001b[1;33m,\u001b[0m\u001b[1;34m'Island name'\u001b[0m\u001b[1;33m]\u001b[0m \u001b[1;33m=\u001b[0m \u001b[0mnewName\u001b[0m\u001b[1;33m\u001b[0m\u001b[1;33m\u001b[0m\u001b[0m\n\u001b[0;32m      5\u001b[0m \u001b[1;33m\u001b[0m\u001b[0m\n",
      "\u001b[1;31mIndexError\u001b[0m: index 0 is out of bounds for axis 0 with size 0"
     ]
    }
   ],
   "source": [
    "#Define a function to replace values in the island list\n",
    "def replace_Island_Name(name, newName,islandList):\n",
    "    index = islandList[islandList['Island name']==name].index.values.astype(int)[0]\n",
    "    islandList.at[index,'Island name'] = newName\n",
    "\n",
    "#Replace the three values\n",
    "replace_Island_Name('Crete', 'Creta',df)\n",
    "replace_Island_Name('Ithaca', 'Ithaka',df)\n",
    "replace_Island_Name('Ios', 'Íos',df)"
   ]
  },
  {
   "cell_type": "markdown",
   "metadata": {},
   "source": [
    "After replacing the values as mentioned above we call the Foursquare API once again. Following that we review the results once again we find that there are no results outside of Greece"
   ]
  },
  {
   "cell_type": "code",
   "execution_count": 17,
   "metadata": {},
   "outputs": [],
   "source": [
    "dataframe = requestFoursquareData(df)"
   ]
  },
  {
   "cell_type": "code",
   "execution_count": 325,
   "metadata": {},
   "outputs": [
    {
     "data": {
      "text/html": [
       "<div>\n",
       "<style scoped>\n",
       "    .dataframe tbody tr th:only-of-type {\n",
       "        vertical-align: middle;\n",
       "    }\n",
       "\n",
       "    .dataframe tbody tr th {\n",
       "        vertical-align: top;\n",
       "    }\n",
       "\n",
       "    .dataframe thead th {\n",
       "        text-align: right;\n",
       "    }\n",
       "</style>\n",
       "<table border=\"1\" class=\"dataframe\">\n",
       "  <thead>\n",
       "    <tr style=\"text-align: right;\">\n",
       "      <th>location.cc</th>\n",
       "      <th>GR</th>\n",
       "      <th>TR</th>\n",
       "    </tr>\n",
       "    <tr>\n",
       "      <th>Name</th>\n",
       "      <th></th>\n",
       "      <th></th>\n",
       "    </tr>\n",
       "  </thead>\n",
       "  <tbody>\n",
       "  </tbody>\n",
       "</table>\n",
       "</div>"
      ],
      "text/plain": [
       "Empty DataFrame\n",
       "Columns: [GR, TR]\n",
       "Index: []"
      ]
     },
     "execution_count": 325,
     "metadata": {},
     "output_type": "execute_result"
    }
   ],
   "source": [
    "temp = dataframe.groupby(['Name', 'location.cc']).size().unstack(fill_value=0)\n",
    "temp.loc[temp['GR'] == 0]"
   ]
  },
  {
   "cell_type": "markdown",
   "metadata": {},
   "source": [
    "We then select only the category column and the columns that have the island name and the location country. The latter is selected because there is one row that has a country other than GR which needs to be removed. Some preprocessing is required to extract the category from the json object"
   ]
  },
  {
   "cell_type": "code",
   "execution_count": 326,
   "metadata": {},
   "outputs": [],
   "source": [
    "temp = dataframe[['Name', 'categories', 'location.cc']]\n",
    "temp = temp.rename(index=str, columns={'Name':'IslandName','categories':'Categories', 'location.cc':'Country'})\n",
    "\n",
    "#exclude the non GR rows\n",
    "temp = temp[temp.Country == 'GR']\n",
    "#Drop the country column since it is no longer needed and get the category values from the json in the category\n",
    "temp = temp[['IslandName','Categories']]"
   ]
  },
  {
   "cell_type": "code",
   "execution_count": 327,
   "metadata": {},
   "outputs": [],
   "source": [
    "# Define a function to retrieve the category of the venue\n",
    "def returnCategory(obj_list):\n",
    "    category = ''\n",
    "    if len(obj_list) > 0:\n",
    "        category = obj_list[0]['name']\n",
    "    return (category)"
   ]
  },
  {
   "cell_type": "code",
   "execution_count": 328,
   "metadata": {},
   "outputs": [],
   "source": [
    "#Create a new column with the category and drop the original column\n",
    "\n",
    "temp['Category'] = temp.Categories.apply(returnCategory)\n",
    "\n",
    "temp = temp[['IslandName','Category']]"
   ]
  },
  {
   "cell_type": "code",
   "execution_count": 329,
   "metadata": {},
   "outputs": [
    {
     "data": {
      "text/html": [
       "<div>\n",
       "<style scoped>\n",
       "    .dataframe tbody tr th:only-of-type {\n",
       "        vertical-align: middle;\n",
       "    }\n",
       "\n",
       "    .dataframe tbody tr th {\n",
       "        vertical-align: top;\n",
       "    }\n",
       "\n",
       "    .dataframe thead th {\n",
       "        text-align: right;\n",
       "    }\n",
       "</style>\n",
       "<table border=\"1\" class=\"dataframe\">\n",
       "  <thead>\n",
       "    <tr style=\"text-align: right;\">\n",
       "      <th></th>\n",
       "      <th>IslandName</th>\n",
       "      <th>Category</th>\n",
       "    </tr>\n",
       "  </thead>\n",
       "  <tbody>\n",
       "    <tr>\n",
       "      <th>0</th>\n",
       "      <td>Creta</td>\n",
       "      <td>Port</td>\n",
       "    </tr>\n",
       "    <tr>\n",
       "      <th>1</th>\n",
       "      <td>Creta</td>\n",
       "      <td>Boat or Ferry</td>\n",
       "    </tr>\n",
       "    <tr>\n",
       "      <th>2</th>\n",
       "      <td>Creta</td>\n",
       "      <td>Boat or Ferry</td>\n",
       "    </tr>\n",
       "    <tr>\n",
       "      <th>3</th>\n",
       "      <td>Creta</td>\n",
       "      <td>Travel Agency</td>\n",
       "    </tr>\n",
       "    <tr>\n",
       "      <th>4</th>\n",
       "      <td>Creta</td>\n",
       "      <td>Boat or Ferry</td>\n",
       "    </tr>\n",
       "  </tbody>\n",
       "</table>\n",
       "</div>"
      ],
      "text/plain": [
       "  IslandName       Category\n",
       "0      Creta           Port\n",
       "1      Creta  Boat or Ferry\n",
       "2      Creta  Boat or Ferry\n",
       "3      Creta  Travel Agency\n",
       "4      Creta  Boat or Ferry"
      ]
     },
     "execution_count": 329,
     "metadata": {},
     "output_type": "execute_result"
    }
   ],
   "source": [
    "temp.head()"
   ]
  },
  {
   "cell_type": "markdown",
   "metadata": {},
   "source": [
    "With the category in place we review the unique values with the ultimate goal to create our feature list for each island which will be wether they have port/airport, the number of hotels and the number of bars/coffee shops and restaurants they have."
   ]
  },
  {
   "cell_type": "code",
   "execution_count": 330,
   "metadata": {},
   "outputs": [
    {
     "data": {
      "text/plain": [
       "array(['Port', 'Boat or Ferry', 'Travel Agency', 'Sports Club',\n",
       "       'Snack Place', 'Tourist Information Center', 'Fish Taverna',\n",
       "       'Seafood Restaurant', 'Government Building', 'Theme Park',\n",
       "       'Gas Station', 'Music Venue', '', 'Rental Car Location',\n",
       "       'Bus Station', 'Cruise', 'Gym / Fitness Center', 'Nail Salon',\n",
       "       'Bank', 'Bookstore', 'Theater', 'Other Nightlife', 'Hobby Shop',\n",
       "       'Public Art', 'Historic Site', 'Greek Restaurant', 'Park',\n",
       "       'Coffee Shop', 'Mediterranean Restaurant',\n",
       "       'College Administrative Building', 'Pizza Place', 'Military Base',\n",
       "       'Souvlaki Shop', 'Playground', 'Fast Food Restaurant', 'Rock Club',\n",
       "       'Club House', 'Building', 'Bowling Alley', 'Social Club',\n",
       "       'Pet Store', 'Convenience Store', 'Newsstand', 'Jewelry Store',\n",
       "       'Electronics Store', 'Hardware Store', 'IT Services',\n",
       "       'Warehouse Store', 'Mobile Phone Shop', 'Health & Beauty Service',\n",
       "       'Café', 'Furniture / Home Store', 'Hotel', 'Bed & Breakfast',\n",
       "       'Bus Line', 'Bus Stop', 'Meze Restaurant', 'Moving Target',\n",
       "       'Steakhouse', 'Food Truck', 'Nightclub', 'Office',\n",
       "       'Corporate Coffee Shop', 'Bar', 'Salon / Barbershop',\n",
       "       'Tennis Court', 'Bakery', 'Burger Joint', 'General Travel',\n",
       "       'Strip Club', 'Lingerie Store', 'Tech Startup',\n",
       "       'Other Great Outdoors', 'Car Wash', 'Village', 'Field',\n",
       "       'Cosmetics Shop', 'Outdoor Gym', 'Hotel Pool', 'Elementary School',\n",
       "       'Middle School', 'Pharmacy', 'Assisted Living', 'Taverna', 'Well',\n",
       "       'Kafenio', 'Stadium', \"Women's Store\", 'Kids Store',\n",
       "       'Deli / Bodega', 'BBQ Joint', 'General Entertainment', 'Gift Shop',\n",
       "       'Butcher', 'Grocery Store', 'Cemetery', 'Mountain', 'Island',\n",
       "       'Supermarket', 'Student Center', 'General College & University',\n",
       "       'Church', 'Italian Restaurant', 'Castle', 'Camera Store', 'Spa',\n",
       "       'Bike Shop', 'College Classroom', 'Beach', 'Farm', 'Tree',\n",
       "       'Forest', 'Rest Area', 'Neighborhood', 'City', 'Dessert Shop',\n",
       "       'Outdoors & Recreation', 'Nature Preserve', 'Soccer Field',\n",
       "       'Creperie', 'Housing Development', 'College Theater', 'Plaza',\n",
       "       'Medical Center', 'Brewery', 'Botanical Garden', 'Gym',\n",
       "       'Courthouse', 'Advertising Agency', 'Factory', 'Cupcake Shop',\n",
       "       'Shopping Mall', 'Auto Garage', 'Home Service', 'Cocktail Bar',\n",
       "       'Museum', 'Lake', 'History Museum', 'Restaurant',\n",
       "       'Automotive Shop', 'Internet Cafe', 'Intersection',\n",
       "       'Design Studio', 'Resort', 'Hotel Bar', \"Dentist's Office\",\n",
       "       \"Doctor's Office\", 'Private School', 'School', 'Post Office',\n",
       "       'Hookah Bar', 'Soccer Stadium', 'Science Museum', 'Mosque',\n",
       "       'Wine Bar', 'Transportation Service', 'National Park', 'Beach Bar',\n",
       "       'Vacation Rental', 'Residential Building (Apartment / Condo)',\n",
       "       'High School', 'Lounge', 'Bridal Shop', 'Video Store',\n",
       "       'Bike Rental / Bike Share', 'Financial or Legal Service',\n",
       "       'College Academic Building', 'College Cafeteria',\n",
       "       'College Library', 'College Auditorium', 'College Gym', 'Town',\n",
       "       'Candy Store', 'Bistro', 'Country Dance Club', 'College Bookstore',\n",
       "       'Middle Eastern Restaurant', 'Laundry Service', 'Gaming Cafe',\n",
       "       'Ouzeri', 'Arts & Crafts Store', 'Shipping Store',\n",
       "       'Sporting Goods Shop', 'Indoor Play Area', 'Outdoor Event Space',\n",
       "       'Real Estate Office', 'Chinese Restaurant',\n",
       "       'Comfort Food Restaurant', 'Sports Bar', 'Multiplex', 'Library',\n",
       "       'Tsipouro Restaurant', 'Food', 'Concert Hall', 'Hostel',\n",
       "       'Medical Supply Store', 'Wine Shop', 'Toy / Game Store',\n",
       "       'Clothing Store', 'Ice Cream Shop', 'Art Gallery', 'Art Museum',\n",
       "       'Boutique', 'Baby Store', 'Fried Chicken Joint', \"Men's Store\",\n",
       "       'Shoe Store', 'Herbs & Spices Store', 'College & University',\n",
       "       'Movie Theater', 'Costume Shop', 'Radio Station', 'Juice Bar',\n",
       "       'Gourmet Shop', 'Pedestrian Plaza', 'Trade School',\n",
       "       'Department Store', 'Bridge', 'Campaign Office', 'Optical Shop',\n",
       "       'Accessories Store', 'Hot Dog Joint', 'Coworking Space',\n",
       "       'Mattress Store', 'Mental Health Office', 'Food Court', 'Airport',\n",
       "       'Airport Gate', 'Miscellaneous Shop', 'Airport Service',\n",
       "       'Vineyard', 'Travel Lounge', 'Pool', 'Grilled Meat Restaurant',\n",
       "       'Sandwich Place', 'Parking', 'Lighthouse', 'Tennis Stadium',\n",
       "       'Paper / Office Supplies Store', 'Indie Movie Theater', 'Market',\n",
       "       'Athletics & Sports', 'Non-Profit', 'Bougatsa Shop', 'Surf Spot',\n",
       "       'Vape Store', 'Cafeteria', 'Lawyer', 'American Restaurant',\n",
       "       'Flower Shop', 'City Hall', 'Language School', 'Acupuncturist',\n",
       "       'Dance Studio', 'Cheese Shop', 'Nursery School',\n",
       "       'Food & Drink Shop', 'Beer Garden', 'Falafel Restaurant',\n",
       "       'Music School', 'Garden', 'Monastery', 'Winery',\n",
       "       'Convention Center', 'States & Municipalities', 'Campground',\n",
       "       'Gluten-free Restaurant', 'Spanish Restaurant', 'Breakfast Spot',\n",
       "       'Arcade', 'Magirio', 'Donut Shop', 'Fish Market',\n",
       "       'Photography Studio', 'Outlet Store', 'Souvenir Shop',\n",
       "       'Betting Shop', 'Police Station', 'Fruit & Vegetable Store',\n",
       "       'Boat Rental', 'Driving School', 'Medical Lab', 'Casino',\n",
       "       'Frozen Yogurt Shop', 'River', 'Hospital', 'Kebab Restaurant',\n",
       "       'Dog Run', 'Antique Shop', 'Event Space', 'Motorcycle Shop',\n",
       "       'Pool Hall', 'Massage Studio', 'Spiritual Center', 'Yoga Studio',\n",
       "       'College Stadium', 'Town Hall', 'Fishing Store', 'Water Park',\n",
       "       'Beer Bar', 'Pub', 'Daycare', 'Community Center', 'Shoe Repair',\n",
       "       'Law School', 'Dive Bar', 'Jazz Club', 'Meeting Room',\n",
       "       'Nutritionist', 'Bagel Shop', 'Garden Center', 'Farmers Market',\n",
       "       'Pie Shop', 'Sausage Shop', 'Business Service', 'Racetrack',\n",
       "       'Veterinarian', 'Dry Cleaner', 'University', 'Tea Room',\n",
       "       'Japanese Restaurant', 'Shop & Service', 'Health Food Store',\n",
       "       'Animal Shelter', 'ATM', 'Smoke Shop', 'Liquor Store',\n",
       "       'Cretan Restaurant', 'Organic Grocery', 'Border Crossing',\n",
       "       'Exhibit', 'Luggage Store', 'Record Shop', 'Performing Arts Venue',\n",
       "       'Kitchen Supply Store', 'Tattoo Parlor', 'Leather Goods Store',\n",
       "       'Conference Room', 'Speakeasy', 'Pastry Shop', 'Roof Deck',\n",
       "       'Tour Provider', 'Piano Bar', 'Harbor / Marina', 'Dive Shop',\n",
       "       'Basketball Stadium', 'Scenic Lookout', 'Medical School',\n",
       "       'Outdoor Sculpture', 'French Restaurant', 'Temple', 'Flea Market',\n",
       "       'Karaoke Bar', 'Storage Facility', 'Prayer Room', 'Prison',\n",
       "       'College Lab', 'Modern Greek Restaurant', 'Gymnastics Gym',\n",
       "       'Buffet', 'Cultural Center', 'Monument / Landmark', 'Amphitheater',\n",
       "       'Molecular Gastronomy Restaurant', 'Professional & Other Places',\n",
       "       'Bathing Area', 'Corporate Cafeteria', 'Stables',\n",
       "       'Eastern European Restaurant', 'Memorial Site', 'Floating Market',\n",
       "       'Gastropub', 'Physical Therapist', 'Pet Service', 'Heliport',\n",
       "       'Trail', 'Diner', 'Tanning Salon', 'Event Service', 'Motel',\n",
       "       'Pier', 'Drugstore', 'Emergency Room', 'Rock Climbing Spot',\n",
       "       'Airport Terminal', 'Chocolate Shop', 'Food Stand', 'Board Shop',\n",
       "       'Taxi Stand', 'College Math Building', 'Tailor Shop',\n",
       "       'Thai Restaurant', 'Modern European Restaurant',\n",
       "       'Sushi Restaurant', 'Gay Bar', 'Tapas Restaurant',\n",
       "       'Fish & Chips Shop', 'Zoo', 'Turkish Restaurant',\n",
       "       'Street Food Gathering', 'Sculpture Garden', 'Travel & Transport',\n",
       "       'College Arts Building', 'Shrine', 'Dive Spot', 'Volleyball Court',\n",
       "       'Fraternity House', 'Perfume Shop', 'Martial Arts Dojo',\n",
       "       'Recreation Center', 'Recording Studio', 'Watch Shop',\n",
       "       'Pop-Up Shop', 'Champagne Bar', 'Astrologer', 'Theme Restaurant',\n",
       "       'Dim Sum Restaurant', 'Asian Restaurant', 'Currency Exchange',\n",
       "       'Trailer Park', 'Photography Lab', 'Opera House',\n",
       "       'Paella Restaurant', 'Whisky Bar', 'Cable Car',\n",
       "       'Mexican Restaurant', 'Irish Pub', 'Caribbean Restaurant',\n",
       "       'Hunting Supply', 'Construction & Landscaping', 'Business Center',\n",
       "       'Boarding House'], dtype=object)"
      ]
     },
     "execution_count": 330,
     "metadata": {},
     "output_type": "execute_result"
    }
   ],
   "source": [
    "temp.Category.unique()"
   ]
  },
  {
   "cell_type": "markdown",
   "metadata": {},
   "source": [
    "After carefully reviewing the different categories in the Foursquare data we decided that the following belong to accomodation and food entertainment:\n",
    "- **Accomodation:** 'Hotel','Bed & Breakfast','Vacation Rental','Resort','Residential Building (Apartment / Condo)','Spa','Hotel Bar','Hostel','Motel'\n",
    "- **Food Entertainment:** 'Greek Restaurant','CafÃ©','Bar','Bakery','Cocktail Bar','Dessert Shop','Coffee Shop','Nightclub','Souvlaki Shop','Pizza Place','Taverna','Fast Food Restaurant','Restaurant','Grocery Store','Snack Place','Seafood Restaurant','Italian Restaurant','Kafenio','Mediterranean Restaurant','Meze Restaurant','Fish Taverna','Burger Joint','Breakfast Spot','Sandwich Place','Candy Store','Creperie','Food & Drink Shop','Frozen Yogurt Shop','Ouzeri','Bistro','Deli / Bodega','Internet Cafe','Food','Modern Greek Restaurant','Bougatsa Shop','Donut Shop','Pub','Steakhouse','Grilled Meat Restaurant','Cafeteria','Chinese Restaurant','Cupcake Shop','Falafel Restaurant','Juice Bar','Cretan Restaurant','Diner','Sushi Restaurant','Karaoke Bar','Fish & Chips Shop','Paella Restaurant','Piano Bar','Turkish Restaurant'"
   ]
  },
  {
   "cell_type": "code",
   "execution_count": 331,
   "metadata": {},
   "outputs": [],
   "source": [
    "def isAccomodation(category):\n",
    "    AccList = ['Hotel','Bed & Breakfast','Vacation Rental','Resort','Residential Building (Apartment / Condo)','Spa','Hotel Bar','Hostel','Motel']\n",
    "    if AccList.count(category):\n",
    "        return 1\n",
    "    else:\n",
    "        return 0\n",
    "def isFoodEntertainment(category):\n",
    "    FooEntList = ['Greek Restaurant','Café','Bar','Bakery','Cocktail Bar','Dessert Shop','Coffee Shop','Nightclub','Souvlaki Shop','Pizza Place','Taverna','Fast Food Restaurant','Restaurant','Grocery Store','Snack Place','Seafood Restaurant','Italian Restaurant','Kafenio','Mediterranean Restaurant','Meze Restaurant','Fish Taverna','Burger Joint','Breakfast Spot','Sandwich Place','Candy Store','Creperie','Food & Drink Shop','Frozen Yogurt Shop','Ouzeri','Bistro','Deli / Bodega','Internet Cafe','Food','Modern Greek Restaurant','Bougatsa Shop','Donut Shop','Pub','Steakhouse','Grilled Meat Restaurant','Cafeteria','Chinese Restaurant','Cupcake Shop','Falafel Restaurant','Juice Bar','Cretan Restaurant','Diner','Sushi Restaurant','Karaoke Bar','Fish & Chips Shop','Paella Restaurant','Piano Bar','Turkish Restaurant']\n",
    "    if FooEntList.count(category):\n",
    "        return 1\n",
    "    else:\n",
    "        return 0\n",
    "\n",
    "temp['isAccomodation'] = temp.Category.apply(isAccomodation)\n",
    "temp['isFoodEntertainment'] = temp.Category.apply(isFoodEntertainment)"
   ]
  },
  {
   "cell_type": "code",
   "execution_count": 332,
   "metadata": {},
   "outputs": [],
   "source": [
    "sum_df = temp.groupby(['IslandName']).agg({'isAccomodation':'sum','isFoodEntertainment':'sum'})"
   ]
  },
  {
   "cell_type": "code",
   "execution_count": 333,
   "metadata": {},
   "outputs": [
    {
     "data": {
      "text/html": [
       "<div>\n",
       "<style scoped>\n",
       "    .dataframe tbody tr th:only-of-type {\n",
       "        vertical-align: middle;\n",
       "    }\n",
       "\n",
       "    .dataframe tbody tr th {\n",
       "        vertical-align: top;\n",
       "    }\n",
       "\n",
       "    .dataframe thead th {\n",
       "        text-align: right;\n",
       "    }\n",
       "</style>\n",
       "<table border=\"1\" class=\"dataframe\">\n",
       "  <thead>\n",
       "    <tr style=\"text-align: right;\">\n",
       "      <th></th>\n",
       "      <th>isAccomodation</th>\n",
       "      <th>isFoodEntertainment</th>\n",
       "    </tr>\n",
       "    <tr>\n",
       "      <th>IslandName</th>\n",
       "      <th></th>\n",
       "      <th></th>\n",
       "    </tr>\n",
       "  </thead>\n",
       "  <tbody>\n",
       "    <tr>\n",
       "      <th>Aegina</th>\n",
       "      <td>7</td>\n",
       "      <td>74</td>\n",
       "    </tr>\n",
       "    <tr>\n",
       "      <th>Alonnisos</th>\n",
       "      <td>39</td>\n",
       "      <td>85</td>\n",
       "    </tr>\n",
       "    <tr>\n",
       "      <th>Amorgos</th>\n",
       "      <td>19</td>\n",
       "      <td>42</td>\n",
       "    </tr>\n",
       "    <tr>\n",
       "      <th>Andros</th>\n",
       "      <td>16</td>\n",
       "      <td>67</td>\n",
       "    </tr>\n",
       "    <tr>\n",
       "      <th>Astypalaia</th>\n",
       "      <td>33</td>\n",
       "      <td>67</td>\n",
       "    </tr>\n",
       "  </tbody>\n",
       "</table>\n",
       "</div>"
      ],
      "text/plain": [
       "            isAccomodation  isFoodEntertainment\n",
       "IslandName                                     \n",
       "Aegina                   7                   74\n",
       "Alonnisos               39                   85\n",
       "Amorgos                 19                   42\n",
       "Andros                  16                   67\n",
       "Astypalaia              33                   67"
      ]
     },
     "execution_count": 333,
     "metadata": {},
     "output_type": "execute_result"
    }
   ],
   "source": [
    "sum_df.head()"
   ]
  },
  {
   "cell_type": "markdown",
   "metadata": {},
   "source": [
    "We then need to visualize the data to find out how they are distributed in the two dimentional space"
   ]
  },
  {
   "cell_type": "code",
   "execution_count": 334,
   "metadata": {},
   "outputs": [
    {
     "data": {
      "text/plain": [
       "<matplotlib.axes._subplots.AxesSubplot at 0x296d5278e48>"
      ]
     },
     "execution_count": 334,
     "metadata": {},
     "output_type": "execute_result"
    },
    {
     "data": {
      "image/png": "[encoded data removed]",
      "text/plain": [
       "<Figure size 432x288 with 1 Axes>"
      ]
     },
     "metadata": {
      "needs_background": "light"
     },
     "output_type": "display_data"
    }
   ],
   "source": [
    "import matplotlib.pyplot as plt # plotting library\n",
    "# backend for rendering plots within the browser\n",
    "%matplotlib inline\n",
    "\n",
    "sum_df.plot.scatter(x='isAccomodation',y='isFoodEntertainment',c='DarkBlue')"
   ]
  }
 ],
 "metadata": {
  "kernelspec": {
   "display_name": "Python 3",
   "language": "python",
   "name": "python3"
  },
  "language_info": {
   "codemirror_mode": {
    "name": "ipython",
    "version": 3
   },
   "file_extension": ".py",
   "mimetype": "text/x-python",
   "name": "python",
   "nbconvert_exporter": "python",
   "pygments_lexer": "ipython3",
   "version": "3.7.1"
  }
 },
 "nbformat": 4,
 "nbformat_minor": 2
}
