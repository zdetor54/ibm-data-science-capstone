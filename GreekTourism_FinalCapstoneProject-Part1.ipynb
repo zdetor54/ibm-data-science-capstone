{
 "cells": [
  {
   "cell_type": "markdown",
   "metadata": {},
   "source": [
    "# How touristic the Greek Islands are?"
   ]
  },
  {
   "cell_type": "markdown",
   "metadata": {},
   "source": [
    "First we gather the data by scraping the following website that lists the major inhabited islands in Greece 'https://simple.wikipedia.org/wiki/List_of_Greek_islands'. Greece has a large number of islands, with estimates ranging from somewhere around 1,200 to 6,000, depending on the minimum size to take into account. The number of inhabited islands is variously cited as between 166 and 227. However for purposed of this analysis the focus is on the major 40 islands that are the main touristic destinations since smaller islands are not in scope."
   ]
  },
  {
   "cell_type": "markdown",
   "metadata": {},
   "source": [
    "## Step 1 - Data Collection:\n",
    "Source the data from the web"
   ]
  },
  {
   "cell_type": "code",
   "execution_count": 1,
   "metadata": {},
   "outputs": [],
   "source": [
    "import requests\n",
    "import lxml.html as lh\n",
    "import pandas as pd\n",
    "\n",
    "url='https://simple.wikipedia.org/wiki/List_of_Greek_islands'\n",
    "#Create a handle, page, to handle the contents of the website\n",
    "page = requests.get(url)\n",
    "#Store the contents of the website under doc\n",
    "doc = lh.fromstring(page.content)\n",
    "#Parse data that are stored between <tr>..</tr> of HTML\n",
    "tr_elements = doc.xpath('//tr')\n",
    "\n",
    "#Create empty list\n",
    "col=[]\n",
    "i=0\n",
    "\n",
    "#Add the headers\n",
    "for t in tr_elements[0]:\n",
    "    i+=1\n",
    "    name=t.text_content()\n",
    "    col.append((name.rstrip(),[]))"
   ]
  },
  {
   "cell_type": "code",
   "execution_count": 2,
   "metadata": {},
   "outputs": [],
   "source": [
    "#Since out first row is the header, data is stored on the second row onwards\n",
    "for j in range(1,len(tr_elements)):\n",
    "    #T is our j'th row\n",
    "    T=tr_elements[j]\n",
    "    \n",
    "    #If row is not of size 10, the //tr data is not from our table \n",
    "    if len(T)!=3:\n",
    "        break\n",
    "    \n",
    "    #i is the index of our column\n",
    "    i=0\n",
    "    \n",
    "    #Iterate through each element of the row\n",
    "    for t in T.iterchildren():\n",
    "        data=t.text_content()\n",
    "        \n",
    "        #print(f'the data is: {data}')\n",
    "        #print(f'the index i is: {i} and the index j is: {j}')\n",
    "        #Append the data to the empty list of the i'th column\n",
    "        col[i][1].append(data.rstrip())\n",
    "        #print(f'the tuple is: {col}')\n",
    "        #Increment i for the next column\n",
    "        i+=1"
   ]
  },
  {
   "cell_type": "code",
   "execution_count": 3,
   "metadata": {},
   "outputs": [
    {
     "data": {
      "text/plain": [
       "(40, 3)"
      ]
     },
     "execution_count": 3,
     "metadata": {},
     "output_type": "execute_result"
    }
   ],
   "source": [
    "#Assign the array to a dictionary and from there to a pandas data frame\n",
    "Dict={title:column for (title,column) in col}\n",
    "df=pd.DataFrame(Dict)\n",
    "df.shape"
   ]
  },
  {
   "cell_type": "markdown",
   "metadata": {},
   "source": [
    "\n",
    "## Step 2 - Data Manipulation:\n",
    "\n",
    "With the data sored in a data frame we then perform a number of processing steps in order to make the data fit for our analysis:\n",
    "1. we drop the Rank since it is not necessary for our analysis\n",
    "2. we convert the area from string to int. To do that we first need to get rid of the '.' which make the conversion to fail and finally\n",
    "3. we create a weight column by normalizing the size of the islands based on the size of the largest island. This is important since larger islands are expected to have more hotels, bars, etc."
   ]
  },
  {
   "cell_type": "code",
   "execution_count": 4,
   "metadata": {},
   "outputs": [
    {
     "data": {
      "text/html": [
       "<div>\n",
       "<style scoped>\n",
       "    .dataframe tbody tr th:only-of-type {\n",
       "        vertical-align: middle;\n",
       "    }\n",
       "\n",
       "    .dataframe tbody tr th {\n",
       "        vertical-align: top;\n",
       "    }\n",
       "\n",
       "    .dataframe thead th {\n",
       "        text-align: right;\n",
       "    }\n",
       "</style>\n",
       "<table border=\"1\" class=\"dataframe\">\n",
       "  <thead>\n",
       "    <tr style=\"text-align: right;\">\n",
       "      <th></th>\n",
       "      <th>Island name</th>\n",
       "      <th>Area (km²)</th>\n",
       "      <th>NormalSize</th>\n",
       "    </tr>\n",
       "  </thead>\n",
       "  <tbody>\n",
       "    <tr>\n",
       "      <th>0</th>\n",
       "      <td>Crete</td>\n",
       "      <td>8336</td>\n",
       "      <td>1.000000</td>\n",
       "    </tr>\n",
       "    <tr>\n",
       "      <th>1</th>\n",
       "      <td>Euboea</td>\n",
       "      <td>3655</td>\n",
       "      <td>0.438460</td>\n",
       "    </tr>\n",
       "    <tr>\n",
       "      <th>2</th>\n",
       "      <td>Lesbos</td>\n",
       "      <td>1630</td>\n",
       "      <td>0.195537</td>\n",
       "    </tr>\n",
       "    <tr>\n",
       "      <th>3</th>\n",
       "      <td>Rhodes</td>\n",
       "      <td>1398</td>\n",
       "      <td>0.167706</td>\n",
       "    </tr>\n",
       "    <tr>\n",
       "      <th>4</th>\n",
       "      <td>Chios</td>\n",
       "      <td>842</td>\n",
       "      <td>0.101008</td>\n",
       "    </tr>\n",
       "  </tbody>\n",
       "</table>\n",
       "</div>"
      ],
      "text/plain": [
       "  Island name  Area (km²)  NormalSize\n",
       "0       Crete        8336    1.000000\n",
       "1      Euboea        3655    0.438460\n",
       "2      Lesbos        1630    0.195537\n",
       "3      Rhodes        1398    0.167706\n",
       "4       Chios         842    0.101008"
      ]
     },
     "execution_count": 4,
     "metadata": {},
     "output_type": "execute_result"
    }
   ],
   "source": [
    "df.drop('Rank by size',axis = 1, inplace = True)\n",
    "\n",
    "#Convert the area from string to int in order to be able to perform calculations on it\n",
    "df[\"Area (km²)\"]=df[\"Area (km²)\"].str.replace('.', '').astype(int)\n",
    "\n",
    "#Normalize the since on the last column\n",
    "maxArea = maxArea = df.max()['Area (km²)']\n",
    "df['NormalSize'] = df.apply(lambda row: row['Area (km²)']/maxArea, axis=1)\n",
    "df.head()"
   ]
  },
  {
   "cell_type": "markdown",
   "metadata": {},
   "source": [
    "## Step 3: Foursquare API\n",
    "\n",
    "Next we will gather information from FourSquare on those islands."
   ]
  },
  {
   "cell_type": "code",
   "execution_count": 5,
   "metadata": {},
   "outputs": [],
   "source": []
  },
  {
   "cell_type": "code",
   "execution_count": 6,
   "metadata": {},
   "outputs": [],
   "source": [
    "from pandas.io.json import json_normalize"
   ]
  },
  {
   "cell_type": "code",
   "execution_count": 7,
   "metadata": {},
   "outputs": [
    {
     "data": {
      "text/plain": [
       "(6260, 27)"
      ]
     },
     "execution_count": 7,
     "metadata": {},
     "output_type": "execute_result"
    }
   ],
   "source": [
    "LIMIT = 1000\n",
    "radius = 500\n",
    "\n",
    "def requestFoursquareData(df):\n",
    "    dataframe = pd.DataFrame()\n",
    "    for i in range (0,len(df)):\n",
    "    #for i in range (0,2):\n",
    "        name = df.iloc[i]['Island name']\n",
    "        url = 'https://api.foursquare.com/v2/venues/search?&client_id={}&client_secret={}&v={}&near={}&limit={}&radius={}'.format(\n",
    "        CLIENT_ID, \n",
    "        CLIENT_SECRET, \n",
    "        VERSION,\n",
    "        name,\n",
    "        LIMIT,\n",
    "        radius)\n",
    "    \n",
    "        results = requests.get(url).json()\n",
    "    \n",
    "        # assign relevant part of JSON to venues\n",
    "        venues = results['response']['venues']\n",
    "    \n",
    "        temp = json_normalize(venues)\n",
    "        temp['Name'] = name\n",
    "        dataframe = dataframe.append(temp, ignore_index = True, sort=True)\n",
    "    return dataframe\n",
    "#     print(dataframe.shape, temp.shape)\n",
    "\n",
    "dataframe = requestFoursquareData(df)\n",
    "dataframe.shape"
   ]
  },
  {
   "cell_type": "markdown",
   "metadata": {},
   "source": [
    "By inspecting the data below it was identifies that for a few islands the country is not GR therefore Foursquare API has not returned the correct results for the venues. For those islands we either need to find a different name with which they are represented in the Foursquare API or exclude them from our analysis for now"
   ]
  },
  {
   "cell_type": "code",
   "execution_count": 8,
   "metadata": {},
   "outputs": [
    {
     "data": {
      "text/html": [
       "<div>\n",
       "<style scoped>\n",
       "    .dataframe tbody tr th:only-of-type {\n",
       "        vertical-align: middle;\n",
       "    }\n",
       "\n",
       "    .dataframe tbody tr th {\n",
       "        vertical-align: top;\n",
       "    }\n",
       "\n",
       "    .dataframe thead th {\n",
       "        text-align: right;\n",
       "    }\n",
       "</style>\n",
       "<table border=\"1\" class=\"dataframe\">\n",
       "  <thead>\n",
       "    <tr style=\"text-align: right;\">\n",
       "      <th>location.cc</th>\n",
       "      <th>BR</th>\n",
       "      <th>GR</th>\n",
       "      <th>TR</th>\n",
       "      <th>US</th>\n",
       "    </tr>\n",
       "    <tr>\n",
       "      <th>Name</th>\n",
       "      <th></th>\n",
       "      <th></th>\n",
       "      <th></th>\n",
       "      <th></th>\n",
       "    </tr>\n",
       "  </thead>\n",
       "  <tbody>\n",
       "    <tr>\n",
       "      <th>Crete</th>\n",
       "      <td>0</td>\n",
       "      <td>0</td>\n",
       "      <td>0</td>\n",
       "      <td>101</td>\n",
       "    </tr>\n",
       "    <tr>\n",
       "      <th>Ios</th>\n",
       "      <td>128</td>\n",
       "      <td>0</td>\n",
       "      <td>0</td>\n",
       "      <td>0</td>\n",
       "    </tr>\n",
       "    <tr>\n",
       "      <th>Ithaca</th>\n",
       "      <td>0</td>\n",
       "      <td>0</td>\n",
       "      <td>0</td>\n",
       "      <td>196</td>\n",
       "    </tr>\n",
       "  </tbody>\n",
       "</table>\n",
       "</div>"
      ],
      "text/plain": [
       "location.cc   BR  GR  TR   US\n",
       "Name                         \n",
       "Crete          0   0   0  101\n",
       "Ios          128   0   0    0\n",
       "Ithaca         0   0   0  196"
      ]
     },
     "execution_count": 8,
     "metadata": {},
     "output_type": "execute_result"
    }
   ],
   "source": [
    "temp = dataframe.groupby(['Name', 'location.cc']).size().unstack(fill_value=0)\n",
    "temp.loc[temp['GR'] == 0]"
   ]
  },
  {
   "cell_type": "markdown",
   "metadata": {},
   "source": [
    "After a few trial with the API we've found the following replacements:\n",
    "- Crete --> Creta\n",
    "- Ithaca -->Ithaka\n",
    "- Ios --> Íos\n",
    "\n",
    "We've found that by manually inserting the latitude and longitude in the Foursquare API and observe some of the value returned.\n",
    "Therefore we need to amend the dataframe with the island names and make the request again:"
   ]
  },
  {
   "cell_type": "code",
   "execution_count": 9,
   "metadata": {},
   "outputs": [],
   "source": [
    "#Define a function to replace values in the island list\n",
    "def replace_Island_Name(name, newName,islandList):\n",
    "    index = islandList[islandList['Island name']==name].index.values.astype(int)[0]\n",
    "    islandList.at[index,'Island name'] = newName\n",
    "\n",
    "#Replace the three values\n",
    "replace_Island_Name('Crete', 'Creta',df)\n",
    "replace_Island_Name('Ithaca', 'Ithaka',df)\n",
    "replace_Island_Name('Ios', 'Íos',df)"
   ]
  },
  {
   "cell_type": "markdown",
   "metadata": {},
   "source": [
    "After replacing the values as mentioned above we call the Foursquare API once again. Following that we review the results once again we find that there are no results outside of Greece"
   ]
  },
  {
   "cell_type": "code",
   "execution_count": 10,
   "metadata": {},
   "outputs": [],
   "source": [
    "dataframe = requestFoursquareData(df)"
   ]
  },
  {
   "cell_type": "code",
   "execution_count": 11,
   "metadata": {},
   "outputs": [
    {
     "data": {
      "text/html": [
       "<div>\n",
       "<style scoped>\n",
       "    .dataframe tbody tr th:only-of-type {\n",
       "        vertical-align: middle;\n",
       "    }\n",
       "\n",
       "    .dataframe tbody tr th {\n",
       "        vertical-align: top;\n",
       "    }\n",
       "\n",
       "    .dataframe thead th {\n",
       "        text-align: right;\n",
       "    }\n",
       "</style>\n",
       "<table border=\"1\" class=\"dataframe\">\n",
       "  <thead>\n",
       "    <tr style=\"text-align: right;\">\n",
       "      <th>location.cc</th>\n",
       "      <th>GR</th>\n",
       "      <th>TR</th>\n",
       "    </tr>\n",
       "    <tr>\n",
       "      <th>Name</th>\n",
       "      <th></th>\n",
       "      <th></th>\n",
       "    </tr>\n",
       "  </thead>\n",
       "  <tbody>\n",
       "  </tbody>\n",
       "</table>\n",
       "</div>"
      ],
      "text/plain": [
       "Empty DataFrame\n",
       "Columns: [GR, TR]\n",
       "Index: []"
      ]
     },
     "execution_count": 11,
     "metadata": {},
     "output_type": "execute_result"
    }
   ],
   "source": [
    "temp = dataframe.groupby(['Name', 'location.cc']).size().unstack(fill_value=0)\n",
    "temp.loc[temp['GR'] == 0]"
   ]
  },
  {
   "cell_type": "markdown",
   "metadata": {},
   "source": [
    "We then select only the category column and the columns that have the island name and the location country. The latter is selected because there is one row that has a country other than GR which needs to be removed. Some preprocessing is required to extract the category from the json object"
   ]
  },
  {
   "cell_type": "code",
   "execution_count": 12,
   "metadata": {},
   "outputs": [],
   "source": [
    "temp = dataframe[['Name', 'categories', 'location.cc']]\n",
    "temp = temp.rename(index=str, columns={'Name':'IslandName','categories':'Categories', 'location.cc':'Country'})\n",
    "\n",
    "#exclude the non GR rows\n",
    "temp = temp[temp.Country == 'GR']\n",
    "#Drop the country column since it is no longer needed and get the category values from the json in the category\n",
    "temp = temp[['IslandName','Categories']]"
   ]
  },
  {
   "cell_type": "code",
   "execution_count": 13,
   "metadata": {},
   "outputs": [],
   "source": [
    "# Define a function to retrieve the category of the venue\n",
    "def returnCategory(obj_list):\n",
    "    category = ''\n",
    "    if len(obj_list) > 0:\n",
    "        category = obj_list[0]['name']\n",
    "    return (category)"
   ]
  },
  {
   "cell_type": "code",
   "execution_count": 14,
   "metadata": {},
   "outputs": [],
   "source": [
    "#Create a new column with the category and drop the original column\n",
    "\n",
    "temp['Category'] = temp.Categories.apply(returnCategory)\n",
    "\n",
    "temp = temp[['IslandName','Category']]"
   ]
  },
  {
   "cell_type": "code",
   "execution_count": 15,
   "metadata": {},
   "outputs": [
    {
     "data": {
      "text/html": [
       "<div>\n",
       "<style scoped>\n",
       "    .dataframe tbody tr th:only-of-type {\n",
       "        vertical-align: middle;\n",
       "    }\n",
       "\n",
       "    .dataframe tbody tr th {\n",
       "        vertical-align: top;\n",
       "    }\n",
       "\n",
       "    .dataframe thead th {\n",
       "        text-align: right;\n",
       "    }\n",
       "</style>\n",
       "<table border=\"1\" class=\"dataframe\">\n",
       "  <thead>\n",
       "    <tr style=\"text-align: right;\">\n",
       "      <th></th>\n",
       "      <th>IslandName</th>\n",
       "      <th>Category</th>\n",
       "    </tr>\n",
       "  </thead>\n",
       "  <tbody>\n",
       "    <tr>\n",
       "      <th>0</th>\n",
       "      <td>Creta</td>\n",
       "      <td>Port</td>\n",
       "    </tr>\n",
       "    <tr>\n",
       "      <th>1</th>\n",
       "      <td>Creta</td>\n",
       "      <td>Boat or Ferry</td>\n",
       "    </tr>\n",
       "    <tr>\n",
       "      <th>2</th>\n",
       "      <td>Creta</td>\n",
       "      <td>Boat or Ferry</td>\n",
       "    </tr>\n",
       "    <tr>\n",
       "      <th>3</th>\n",
       "      <td>Creta</td>\n",
       "      <td>Travel Agency</td>\n",
       "    </tr>\n",
       "    <tr>\n",
       "      <th>4</th>\n",
       "      <td>Creta</td>\n",
       "      <td>Government Building</td>\n",
       "    </tr>\n",
       "  </tbody>\n",
       "</table>\n",
       "</div>"
      ],
      "text/plain": [
       "  IslandName             Category\n",
       "0      Creta                 Port\n",
       "1      Creta        Boat or Ferry\n",
       "2      Creta        Boat or Ferry\n",
       "3      Creta        Travel Agency\n",
       "4      Creta  Government Building"
      ]
     },
     "execution_count": 15,
     "metadata": {},
     "output_type": "execute_result"
    }
   ],
   "source": [
    "temp.head()"
   ]
  },
  {
   "cell_type": "markdown",
   "metadata": {},
   "source": [
    "With the category in place we review the unique values with the ultimate goal to create our feature list for each island which will be wether they have port/airport, the number of hotels and the number of bars/coffee shops and restaurants they have."
   ]
  },
  {
   "cell_type": "code",
   "execution_count": 16,
   "metadata": {},
   "outputs": [
    {
     "data": {
      "text/plain": [
       "array(['Port', 'Boat or Ferry', 'Travel Agency', 'Government Building',\n",
       "       'Tourist Information Center', 'Snack Place', 'Sports Club',\n",
       "       'Seafood Restaurant', 'Rental Car Location', 'Gas Station',\n",
       "       'Fish Taverna', '', 'Gym / Fitness Center', 'Cruise',\n",
       "       'Bus Station', 'Theme Park', 'Music Venue', 'Nail Salon', 'Bank',\n",
       "       'College Administrative Building', 'Bookstore', 'Military Base',\n",
       "       'Hobby Shop', 'Other Nightlife', 'Building', 'Social Club',\n",
       "       'Theater', 'Park', 'Mediterranean Restaurant', 'Greek Restaurant',\n",
       "       'Coffee Shop', 'Playground', 'Fast Food Restaurant', 'Public Art',\n",
       "       'Historic Site', 'Office', 'Corporate Coffee Shop',\n",
       "       'Bowling Alley', 'Electronics Store', 'Club House',\n",
       "       'Health & Beauty Service', 'Convenience Store', 'Pet Store',\n",
       "       'Newsstand', 'Pizza Place', 'Jewelry Store', 'Rock Club',\n",
       "       'Moving Target', 'Food Truck', 'Tech Startup', 'Bus Line', 'Hotel',\n",
       "       'Bus Stop', 'Bed & Breakfast', 'Café', 'IT Services',\n",
       "       'Mobile Phone Shop', 'Hardware Store', 'Warehouse Store',\n",
       "       'Steakhouse', 'Salon / Barbershop', 'Tennis Court', 'Nightclub',\n",
       "       'Bar', 'Furniture / Home Store', 'Souvlaki Shop', 'Bakery',\n",
       "       'General Travel', 'Burger Joint', 'Strip Club', 'Lingerie Store',\n",
       "       'Meze Restaurant', 'Other Great Outdoors', 'Elementary School',\n",
       "       'Middle School', 'Car Wash', 'Cosmetics Shop', 'Outdoor Gym',\n",
       "       'Hotel Pool', 'Village', 'Field', 'Pharmacy', 'Courthouse',\n",
       "       'Assisted Living', 'Supermarket', 'Camera Store', 'Kafenio',\n",
       "       'College Classroom', 'Well', 'Advertising Agency',\n",
       "       'General College & University', 'Student Center', 'Church',\n",
       "       'Factory', 'Deli / Bodega', 'Gift Shop', 'Butcher',\n",
       "       \"Women's Store\", 'Kids Store', 'Grocery Store', 'BBQ Joint',\n",
       "       'College Theater', 'Mountain', 'Cemetery', 'Taverna',\n",
       "       'General Entertainment', 'Medical Center', 'Bike Shop',\n",
       "       'Italian Restaurant', 'Island', 'Forest', 'Tree', 'Farm',\n",
       "       'Rest Area', 'Beach', 'Housing Development', 'City',\n",
       "       'Neighborhood', 'Soccer Field', 'Nature Preserve', 'Spa',\n",
       "       'Outdoors & Recreation', 'Stadium', 'Plaza', 'Botanical Garden',\n",
       "       'Gym', 'Dessert Shop', 'Creperie', 'Castle', 'Brewery',\n",
       "       'Auto Garage', 'Shopping Mall', 'Cupcake Shop', 'Home Service',\n",
       "       'Design Studio', 'Post Office', 'School', 'Private School',\n",
       "       \"Doctor's Office\", \"Dentist's Office\", 'Automotive Shop', 'Resort',\n",
       "       'Intersection', 'Restaurant', 'Lake', 'Internet Cafe',\n",
       "       'High School', 'History Museum', 'Financial or Legal Service',\n",
       "       'National Park', 'Beach Bar', 'Museum', 'Transportation Service',\n",
       "       'Wine Bar', 'Soccer Stadium', 'Science Museum', 'Vacation Rental',\n",
       "       'Mosque', 'Cocktail Bar',\n",
       "       'Residential Building (Apartment / Condo)', 'Bridal Shop',\n",
       "       'Hotel Bar', 'Video Store', 'Bike Rental / Bike Share',\n",
       "       'Hookah Bar', 'Lounge', 'College Academic Building',\n",
       "       'College Cafeteria', 'College Library', 'College Auditorium',\n",
       "       'College Gym', 'Town', 'College Bookstore', 'Candy Store',\n",
       "       'Bistro', 'Country Dance Club', 'Laundry Service',\n",
       "       'Middle Eastern Restaurant', 'Gaming Cafe', 'Medical Supply Store',\n",
       "       'Indoor Play Area', 'Arts & Crafts Store',\n",
       "       'Comfort Food Restaurant', 'Shipping Store', 'Sports Bar',\n",
       "       'Ouzeri', 'Real Estate Office', 'Library', 'Tsipouro Restaurant',\n",
       "       'Food', 'Sporting Goods Shop', 'Concert Hall', 'Hostel',\n",
       "       'Outdoor Event Space', 'Chinese Restaurant', 'Multiplex',\n",
       "       'Toy / Game Store', 'Clothing Store', 'Wine Shop',\n",
       "       'Ice Cream Shop', 'Juice Bar', 'Boutique', 'College & University',\n",
       "       'Art Gallery', 'Fried Chicken Joint', 'Radio Station',\n",
       "       'Art Museum', 'Campaign Office', \"Men's Store\", 'Baby Store',\n",
       "       'Trade School', 'Shoe Store', 'Costume Shop',\n",
       "       'Herbs & Spices Store', 'Movie Theater', 'Pedestrian Plaza',\n",
       "       'Gourmet Shop', 'Department Store', 'Optical Shop', 'Bridge',\n",
       "       'Coworking Space', 'Mental Health Office', 'Accessories Store',\n",
       "       'Hot Dog Joint', 'Mattress Store', 'Food Court', 'Airport',\n",
       "       'Airport Gate', 'Miscellaneous Shop', 'Airport Service',\n",
       "       'Sandwich Place', 'Vineyard', 'Travel Lounge', 'Parking', 'Pool',\n",
       "       'Grilled Meat Restaurant', 'Lighthouse',\n",
       "       'Paper / Office Supplies Store', 'Non-Profit',\n",
       "       'Athletics & Sports', 'Indie Movie Theater', 'Tennis Stadium',\n",
       "       'Market', 'Bougatsa Shop', 'Cafeteria', 'City Hall',\n",
       "       'Language School', 'Vape Store', 'Lawyer', 'Surf Spot',\n",
       "       'American Restaurant', 'Flower Shop', 'Acupuncturist',\n",
       "       'Dance Studio', 'Nursery School', 'Cheese Shop',\n",
       "       'Food & Drink Shop', 'Beer Garden', 'Falafel Restaurant',\n",
       "       'Music School', 'Garden', 'Monastery', 'Winery',\n",
       "       'Convention Center', 'Campground', 'States & Municipalities',\n",
       "       'Gluten-free Restaurant', 'Spanish Restaurant', 'Breakfast Spot',\n",
       "       'Arcade', 'Magirio', 'Donut Shop', 'Fish Market', 'Outlet Store',\n",
       "       'Photography Studio', 'Souvenir Shop', 'Betting Shop',\n",
       "       'Medical Lab', 'Police Station', 'Driving School', 'Boat Rental',\n",
       "       'Casino', 'Fruit & Vegetable Store', 'Frozen Yogurt Shop', 'River',\n",
       "       'Hospital', 'Kebab Restaurant', 'Dog Run', 'Spiritual Center',\n",
       "       'Event Space', 'College Stadium', 'Antique Shop',\n",
       "       'Motorcycle Shop', 'Pool Hall', 'Yoga Studio', 'Town Hall',\n",
       "       'Massage Studio', 'Fishing Store', 'Community Center',\n",
       "       'Water Park', 'Beer Bar', 'Daycare', 'Pub', 'Law School',\n",
       "       'Shoe Repair', 'Jazz Club', 'Dive Bar', 'Nutritionist',\n",
       "       'Meeting Room', 'Bagel Shop', 'Garden Center', 'Business Service',\n",
       "       'Pie Shop', 'Farmers Market', 'Sausage Shop', 'Veterinarian',\n",
       "       'Racetrack', 'University', 'Dry Cleaner', 'Tea Room',\n",
       "       'Japanese Restaurant', 'Shop & Service', 'Animal Shelter',\n",
       "       'Health Food Store', 'ATM', 'Smoke Shop', 'Border Crossing',\n",
       "       'Liquor Store', 'Organic Grocery', 'Cretan Restaurant', 'Exhibit',\n",
       "       'Luggage Store', 'Conference Room', 'Record Shop',\n",
       "       'Performing Arts Venue', 'Leather Goods Store',\n",
       "       'Kitchen Supply Store', 'Tattoo Parlor', 'Speakeasy',\n",
       "       'Pastry Shop', 'Roof Deck', 'Dive Shop', 'Harbor / Marina',\n",
       "       'Piano Bar', 'Tour Provider', 'Basketball Stadium',\n",
       "       'Scenic Lookout', 'Medical School', 'Outdoor Sculpture',\n",
       "       'French Restaurant', 'Temple', 'Karaoke Bar', 'Flea Market',\n",
       "       'Storage Facility', 'Prayer Room', 'College Lab', 'Prison',\n",
       "       'Modern Greek Restaurant', 'Gymnastics Gym', 'Cultural Center',\n",
       "       'Buffet', 'Monument / Landmark', 'Amphitheater', 'Stables',\n",
       "       'Molecular Gastronomy Restaurant', 'Professional & Other Places',\n",
       "       'Corporate Cafeteria', 'Bathing Area',\n",
       "       'Eastern European Restaurant', 'Physical Therapist',\n",
       "       'Memorial Site', 'Gastropub', 'Floating Market', 'Pet Service',\n",
       "       'Trail', 'Heliport', 'Event Service', 'Tanning Salon', 'Diner',\n",
       "       'Motel', 'Pier', 'Drugstore', 'Emergency Room',\n",
       "       'Rock Climbing Spot', 'Airport Terminal', 'Food Stand',\n",
       "       'College Math Building', 'Chocolate Shop', 'Taxi Stand',\n",
       "       'Board Shop', 'Tailor Shop', 'Thai Restaurant', 'Sushi Restaurant',\n",
       "       'Modern European Restaurant', 'Gay Bar', 'Tapas Restaurant',\n",
       "       'Fish & Chips Shop', 'Zoo', 'Turkish Restaurant',\n",
       "       'Street Food Gathering', 'Sculpture Garden', 'Travel & Transport',\n",
       "       'College Arts Building', 'Dive Spot', 'Shrine', 'Volleyball Court',\n",
       "       'Fraternity House', 'Perfume Shop', 'Martial Arts Dojo',\n",
       "       'Recreation Center', 'Recording Studio', 'Watch Shop',\n",
       "       'Astrologer', 'Pop-Up Shop', 'Theme Restaurant', 'Champagne Bar',\n",
       "       'Asian Restaurant', 'Dim Sum Restaurant', 'Currency Exchange',\n",
       "       'Trailer Park', 'Photography Lab', 'Opera House',\n",
       "       'Paella Restaurant', 'Whisky Bar', 'Cable Car',\n",
       "       'Mexican Restaurant', 'Irish Pub', 'Caribbean Restaurant',\n",
       "       'Hunting Supply', 'Construction & Landscaping', 'Business Center',\n",
       "       'Boarding House'], dtype=object)"
      ]
     },
     "execution_count": 16,
     "metadata": {},
     "output_type": "execute_result"
    }
   ],
   "source": [
    "temp.Category.unique()"
   ]
  },
  {
   "cell_type": "markdown",
   "metadata": {},
   "source": [
    "After carefully reviewing the different categories in the Foursquare data we decided that the following belong to accomodation and food entertainment:\n",
    "- **Accomodation:** 'Hotel','Bed & Breakfast','Vacation Rental','Resort','Residential Building (Apartment / Condo)','Spa','Hotel Bar','Hostel','Motel'\n",
    "- **Food Entertainment:** 'Greek Restaurant','CafÃ©','Bar','Bakery','Cocktail Bar','Dessert Shop','Coffee Shop','Nightclub','Souvlaki Shop','Pizza Place','Taverna','Fast Food Restaurant','Restaurant','Grocery Store','Snack Place','Seafood Restaurant','Italian Restaurant','Kafenio','Mediterranean Restaurant','Meze Restaurant','Fish Taverna','Burger Joint','Breakfast Spot','Sandwich Place','Candy Store','Creperie','Food & Drink Shop','Frozen Yogurt Shop','Ouzeri','Bistro','Deli / Bodega','Internet Cafe','Food','Modern Greek Restaurant','Bougatsa Shop','Donut Shop','Pub','Steakhouse','Grilled Meat Restaurant','Cafeteria','Chinese Restaurant','Cupcake Shop','Falafel Restaurant','Juice Bar','Cretan Restaurant','Diner','Sushi Restaurant','Karaoke Bar','Fish & Chips Shop','Paella Restaurant','Piano Bar','Turkish Restaurant'"
   ]
  },
  {
   "cell_type": "code",
   "execution_count": 17,
   "metadata": {},
   "outputs": [],
   "source": [
    "def isAccomodation(category):\n",
    "    AccList = ['Hotel','Bed & Breakfast','Vacation Rental','Resort','Residential Building (Apartment / Condo)','Spa','Hotel Bar','Hostel','Motel']\n",
    "    if AccList.count(category):\n",
    "        return 1\n",
    "    else:\n",
    "        return 0\n",
    "def isFoodEntertainment(category):\n",
    "    FooEntList = ['Greek Restaurant','Café','Bar','Bakery','Cocktail Bar','Dessert Shop','Coffee Shop','Nightclub','Souvlaki Shop','Pizza Place','Taverna','Fast Food Restaurant','Restaurant','Grocery Store','Snack Place','Seafood Restaurant','Italian Restaurant','Kafenio','Mediterranean Restaurant','Meze Restaurant','Fish Taverna','Burger Joint','Breakfast Spot','Sandwich Place','Candy Store','Creperie','Food & Drink Shop','Frozen Yogurt Shop','Ouzeri','Bistro','Deli / Bodega','Internet Cafe','Food','Modern Greek Restaurant','Bougatsa Shop','Donut Shop','Pub','Steakhouse','Grilled Meat Restaurant','Cafeteria','Chinese Restaurant','Cupcake Shop','Falafel Restaurant','Juice Bar','Cretan Restaurant','Diner','Sushi Restaurant','Karaoke Bar','Fish & Chips Shop','Paella Restaurant','Piano Bar','Turkish Restaurant']\n",
    "    if FooEntList.count(category):\n",
    "        return 1\n",
    "    else:\n",
    "        return 0\n",
    "\n",
    "temp['isAccomodation'] = temp.Category.apply(isAccomodation)\n",
    "temp['isFoodEntertainment'] = temp.Category.apply(isFoodEntertainment)"
   ]
  },
  {
   "cell_type": "code",
   "execution_count": 18,
   "metadata": {},
   "outputs": [],
   "source": [
    "sum_df = temp.groupby(['IslandName']).agg({'isAccomodation':'sum','isFoodEntertainment':'sum'})"
   ]
  },
  {
   "cell_type": "code",
   "execution_count": 19,
   "metadata": {},
   "outputs": [
    {
     "data": {
      "text/html": [
       "<div>\n",
       "<style scoped>\n",
       "    .dataframe tbody tr th:only-of-type {\n",
       "        vertical-align: middle;\n",
       "    }\n",
       "\n",
       "    .dataframe tbody tr th {\n",
       "        vertical-align: top;\n",
       "    }\n",
       "\n",
       "    .dataframe thead th {\n",
       "        text-align: right;\n",
       "    }\n",
       "</style>\n",
       "<table border=\"1\" class=\"dataframe\">\n",
       "  <thead>\n",
       "    <tr style=\"text-align: right;\">\n",
       "      <th></th>\n",
       "      <th>isAccomodation</th>\n",
       "      <th>isFoodEntertainment</th>\n",
       "    </tr>\n",
       "    <tr>\n",
       "      <th>IslandName</th>\n",
       "      <th></th>\n",
       "      <th></th>\n",
       "    </tr>\n",
       "  </thead>\n",
       "  <tbody>\n",
       "    <tr>\n",
       "      <th>Aegina</th>\n",
       "      <td>7</td>\n",
       "      <td>74</td>\n",
       "    </tr>\n",
       "    <tr>\n",
       "      <th>Alonnisos</th>\n",
       "      <td>39</td>\n",
       "      <td>85</td>\n",
       "    </tr>\n",
       "    <tr>\n",
       "      <th>Amorgos</th>\n",
       "      <td>19</td>\n",
       "      <td>42</td>\n",
       "    </tr>\n",
       "    <tr>\n",
       "      <th>Andros</th>\n",
       "      <td>16</td>\n",
       "      <td>66</td>\n",
       "    </tr>\n",
       "    <tr>\n",
       "      <th>Astypalaia</th>\n",
       "      <td>33</td>\n",
       "      <td>67</td>\n",
       "    </tr>\n",
       "  </tbody>\n",
       "</table>\n",
       "</div>"
      ],
      "text/plain": [
       "            isAccomodation  isFoodEntertainment\n",
       "IslandName                                     \n",
       "Aegina                   7                   74\n",
       "Alonnisos               39                   85\n",
       "Amorgos                 19                   42\n",
       "Andros                  16                   66\n",
       "Astypalaia              33                   67"
      ]
     },
     "execution_count": 19,
     "metadata": {},
     "output_type": "execute_result"
    }
   ],
   "source": [
    "sum_df.head()"
   ]
  },
  {
   "cell_type": "markdown",
   "metadata": {},
   "source": [
    "We then need to visualize the data to find out how they are distributed in the two dimentional space"
   ]
  },
  {
   "cell_type": "code",
   "execution_count": 20,
   "metadata": {},
   "outputs": [
    {
     "data": {
      "text/plain": [
       "<matplotlib.axes._subplots.AxesSubplot at 0x208c6960470>"
      ]
     },
     "execution_count": 20,
     "metadata": {},
     "output_type": "execute_result"
    },
    {
     "data": {
      "image/png": "[encoded data removed]",
      "text/plain": [
       "<Figure size 432x288 with 1 Axes>"
      ]
     },
     "metadata": {
      "needs_background": "light"
     },
     "output_type": "display_data"
    }
   ],
   "source": [
    "import matplotlib.pyplot as plt # plotting library\n",
    "# backend for rendering plots within the browser\n",
    "%matplotlib inline\n",
    "\n",
    "sum_df.plot.scatter(x='isAccomodation',y='isFoodEntertainment',c='DarkBlue')"
   ]
  },
  {
   "cell_type": "code",
   "execution_count": null,
   "metadata": {},
   "outputs": [],
   "source": []
  }
 ],
 "metadata": {
  "kernelspec": {
   "display_name": "Python 3",
   "language": "python",
   "name": "python3"
  },
  "language_info": {
   "codemirror_mode": {
    "name": "ipython",
    "version": 3
   },
   "file_extension": ".py",
   "mimetype": "text/x-python",
   "name": "python",
   "nbconvert_exporter": "python",
   "pygments_lexer": "ipython3",
   "version": "3.7.1"
  }
 },
 "nbformat": 4,
 "nbformat_minor": 2
}
